{
  "nbformat": 4,
  "nbformat_minor": 0,
  "metadata": {
    "kernelspec": {
      "display_name": "Python 3",
      "language": "python",
      "name": "python3"
    },
    "language_info": {
      "codemirror_mode": {
        "name": "ipython",
        "version": 3
      },
      "file_extension": ".py",
      "mimetype": "text/x-python",
      "name": "python",
      "nbconvert_exporter": "python",
      "pygments_lexer": "ipython3",
      "version": "3.6.4"
    },
    "colab": {
      "name": "Playaround.ipynb",
      "provenance": [],
      "collapsed_sections": [
        "l2opst4C3tww",
        "-7cfd0lI3txm",
        "dTgpW-EFsZlu",
        "OwH3plnNlkLt",
        "8iR8uj0t3tzK",
        "okO0QcLq3t0f",
        "Npczr-Re3t0r",
        "eKi03Syn3t0w",
        "zIYTyOF33t2g",
        "prikVuIM3t1C",
        "LiExi2PS3t2p",
        "loN_pwu03t2v",
        "_6wX4-Ql3t3h",
        "VjYEP89m3t3u",
        "JKHT3FzC3t3v"
      ],
      "include_colab_link": true
    },
    "widgets": {
      "application/vnd.jupyter.widget-state+json": {
        "7da7b46bc9f64ade85580a502ebef1ac": {
          "model_module": "@jupyter-widgets/controls",
          "model_name": "VBoxModel",
          "state": {
            "_view_name": "VBoxView",
            "_dom_classes": [
              "widget-interact"
            ],
            "_model_name": "VBoxModel",
            "_view_module": "@jupyter-widgets/controls",
            "_model_module_version": "1.5.0",
            "_view_count": null,
            "_view_module_version": "1.5.0",
            "box_style": "",
            "layout": "IPY_MODEL_faf6aa3cff1b47c88ea7d66c6092bfd7",
            "_model_module": "@jupyter-widgets/controls",
            "children": [
              "IPY_MODEL_9feba29f6c8e4e0887432e475f92ef55",
              "IPY_MODEL_4c6311e461654a85abc3ba3b3779f81d"
            ]
          }
        },
        "faf6aa3cff1b47c88ea7d66c6092bfd7": {
          "model_module": "@jupyter-widgets/base",
          "model_name": "LayoutModel",
          "state": {
            "_view_name": "LayoutView",
            "grid_template_rows": null,
            "right": null,
            "justify_content": null,
            "_view_module": "@jupyter-widgets/base",
            "overflow": null,
            "_model_module_version": "1.2.0",
            "_view_count": null,
            "flex_flow": null,
            "width": null,
            "min_width": null,
            "border": null,
            "align_items": null,
            "bottom": null,
            "_model_module": "@jupyter-widgets/base",
            "top": null,
            "grid_column": null,
            "overflow_y": null,
            "overflow_x": null,
            "grid_auto_flow": null,
            "grid_area": null,
            "grid_template_columns": null,
            "flex": null,
            "_model_name": "LayoutModel",
            "justify_items": null,
            "grid_row": null,
            "max_height": null,
            "align_content": null,
            "visibility": null,
            "align_self": null,
            "height": null,
            "min_height": null,
            "padding": null,
            "grid_auto_rows": null,
            "grid_gap": null,
            "max_width": null,
            "order": null,
            "_view_module_version": "1.2.0",
            "grid_template_areas": null,
            "object_position": null,
            "object_fit": null,
            "grid_auto_columns": null,
            "margin": null,
            "display": null,
            "left": null
          }
        },
        "9feba29f6c8e4e0887432e475f92ef55": {
          "model_module": "@jupyter-widgets/controls",
          "model_name": "IntSliderModel",
          "state": {
            "_view_name": "IntSliderView",
            "style": "IPY_MODEL_855f72f825ee453e940232005494167e",
            "_dom_classes": [],
            "description": "distance_threshold",
            "step": 1,
            "_model_name": "IntSliderModel",
            "orientation": "horizontal",
            "max": 200,
            "_view_module": "@jupyter-widgets/controls",
            "_model_module_version": "1.5.0",
            "value": 100,
            "_view_count": null,
            "disabled": false,
            "_view_module_version": "1.5.0",
            "min": 0,
            "continuous_update": true,
            "readout_format": "d",
            "description_tooltip": null,
            "readout": true,
            "_model_module": "@jupyter-widgets/controls",
            "layout": "IPY_MODEL_b64c6320b9f5446682435c09e887a6b8"
          }
        },
        "4c6311e461654a85abc3ba3b3779f81d": {
          "model_module": "@jupyter-widgets/output",
          "model_name": "OutputModel",
          "state": {
            "_view_name": "OutputView",
            "msg_id": "",
            "_dom_classes": [],
            "_model_name": "OutputModel",
            "outputs": [
              {
                "output_type": "display_data",
                "metadata": {
                  "tags": []
                },
                "text/plain": "4"
              }
            ],
            "_view_module": "@jupyter-widgets/output",
            "_model_module_version": "1.0.0",
            "_view_count": null,
            "_view_module_version": "1.0.0",
            "layout": "IPY_MODEL_ecb41599b9f641e690ab3ab5b69d4ae8",
            "_model_module": "@jupyter-widgets/output"
          }
        },
        "855f72f825ee453e940232005494167e": {
          "model_module": "@jupyter-widgets/controls",
          "model_name": "SliderStyleModel",
          "state": {
            "_view_name": "StyleView",
            "handle_color": null,
            "_model_name": "SliderStyleModel",
            "description_width": "",
            "_view_module": "@jupyter-widgets/base",
            "_model_module_version": "1.5.0",
            "_view_count": null,
            "_view_module_version": "1.2.0",
            "_model_module": "@jupyter-widgets/controls"
          }
        },
        "b64c6320b9f5446682435c09e887a6b8": {
          "model_module": "@jupyter-widgets/base",
          "model_name": "LayoutModel",
          "state": {
            "_view_name": "LayoutView",
            "grid_template_rows": null,
            "right": null,
            "justify_content": null,
            "_view_module": "@jupyter-widgets/base",
            "overflow": null,
            "_model_module_version": "1.2.0",
            "_view_count": null,
            "flex_flow": null,
            "width": null,
            "min_width": null,
            "border": null,
            "align_items": null,
            "bottom": null,
            "_model_module": "@jupyter-widgets/base",
            "top": null,
            "grid_column": null,
            "overflow_y": null,
            "overflow_x": null,
            "grid_auto_flow": null,
            "grid_area": null,
            "grid_template_columns": null,
            "flex": null,
            "_model_name": "LayoutModel",
            "justify_items": null,
            "grid_row": null,
            "max_height": null,
            "align_content": null,
            "visibility": null,
            "align_self": null,
            "height": null,
            "min_height": null,
            "padding": null,
            "grid_auto_rows": null,
            "grid_gap": null,
            "max_width": null,
            "order": null,
            "_view_module_version": "1.2.0",
            "grid_template_areas": null,
            "object_position": null,
            "object_fit": null,
            "grid_auto_columns": null,
            "margin": null,
            "display": null,
            "left": null
          }
        }
      }
    }
  },
  "cells": [
    {
      "cell_type": "markdown",
      "metadata": {
        "id": "view-in-github",
        "colab_type": "text"
      },
      "source": [
        "<a href=\"https://colab.research.google.com/github/Cyberpunk3077/Cannot-Find-On-The-Internet/blob/master/Playaround.ipynb\" target=\"_parent\"><img src=\"https://colab.research.google.com/assets/colab-badge.svg\" alt=\"Open In Colab\"/></a>"
      ]
    },
    {
      "cell_type": "markdown",
      "metadata": {
        "id": "goZS6f1c39OV",
        "colab_type": "text"
      },
      "source": [
        "## Numpy"
      ]
    },
    {
      "cell_type": "markdown",
      "metadata": {
        "id": "d2x7q89NEYFG",
        "colab_type": "text"
      },
      "source": [
        "#HI\n",
        "\n",
        "---\n"
      ]
    },
    {
      "cell_type": "markdown",
      "metadata": {
        "id": "SdTUPuNp4Yhk",
        "colab_type": "text"
      },
      "source": [
        "###Introduction to Numpy"
      ]
    },
    {
      "cell_type": "markdown",
      "metadata": {
        "id": "HY31PHuu3tvy",
        "colab_type": "text"
      },
      "source": [
        "<p style=\"font-family: Arial; font-size:1.25em;color:#2462C0; font-style:bold\"><br>\n",
        "Package for scientific computing with Python\n",
        "</p><br>\n",
        "\n",
        "Numerical Python, or \"Numpy\" for short, is a foundational package on which many of the most common data science packages are built.  Numpy provides us with high performance multi-dimensional arrays which we can use as vectors or matrices.  \n",
        "\n",
        "The key features of numpy are:\n",
        "\n",
        "- ndarrays: n-dimensional arrays of the same data type which are fast and space-efficient.  There are a number of built-in methods for ndarrays which allow for rapid processing of data without using loops (e.g., compute the mean).\n",
        "- Broadcasting: a useful tool which defines implicit behavior between multi-dimensional arrays of different sizes.\n",
        "- Vectorization: enables numeric operations on ndarrays.\n",
        "- Input/Output: simplifies reading and writing of data from/to file.\n",
        "\n",
        "<b>Additional Recommended Resources:</b><br>\n",
        "<a href=\"https://docs.scipy.org/doc/numpy/reference/\">Numpy Documentation</a><br>\n",
        "<i>Python for Data Analysis</i> by Wes McKinney<br>\n",
        "<i>Python Data science Handbook</i> by Jake VanderPlas\n",
        "\n"
      ]
    },
    {
      "cell_type": "markdown",
      "metadata": {
        "id": "2dCPP-bR3twA",
        "colab_type": "text"
      },
      "source": [
        "###Getting started with ndarray\n",
        "**ndarrays** are time and space-efficient multidimensional arrays at the core of numpy.  Like the data structures in Week 2, let's get started by creating ndarrays using the numpy package."
      ]
    },
    {
      "cell_type": "markdown",
      "metadata": {
        "id": "flH0k4UB3twE",
        "colab_type": "text"
      },
      "source": [
        "\n",
        "\n",
        "####How to create Rank 1 numpy arrays:\n"
      ]
    },
    {
      "cell_type": "code",
      "metadata": {
        "id": "zeB0BuAp3twI",
        "colab_type": "code",
        "colab": {
          "base_uri": "https://localhost:8080/",
          "height": 34
        },
        "outputId": "49ec03d9-fefd-4596-d628-d97224265bf5"
      },
      "source": [
        "import numpy as np\n",
        "\n",
        "an_array = np.array([3, 33, 333])  # Create a rank 1 array\n",
        "\n",
        "print(type(an_array))       \n",
        "print(\"hi\")    # The type of an ndarray is: \"<class 'numpy.ndarray'>\""
      ],
      "execution_count": null,
      "outputs": [
        {
          "output_type": "stream",
          "text": [
            "<class 'numpy.ndarray'>\n"
          ],
          "name": "stdout"
        }
      ]
    },
    {
      "cell_type": "code",
      "metadata": {
        "id": "KgrAZx8m3twX",
        "colab_type": "code",
        "colab": {
          "base_uri": "https://localhost:8080/",
          "height": 34
        },
        "outputId": "9aa7cc4f-cf5b-4e1c-d31c-591a5e46e482"
      },
      "source": [
        "# test the shape of the array we just created, it should have just one dimension (Rank 1)\n",
        "print(an_array.shape)"
      ],
      "execution_count": null,
      "outputs": [
        {
          "output_type": "stream",
          "text": [
            "(3,)\n"
          ],
          "name": "stdout"
        }
      ]
    },
    {
      "cell_type": "code",
      "metadata": {
        "id": "ppXmLDXB3twg",
        "colab_type": "code",
        "colab": {
          "base_uri": "https://localhost:8080/",
          "height": 34
        },
        "outputId": "dbb079ac-fc79-4c8d-c9c5-f10f03de3f75"
      },
      "source": [
        "# because this is a 1-rank array, we need only one index to accesss each element\n",
        "print(an_array[0], an_array[1], an_array[2]) "
      ],
      "execution_count": null,
      "outputs": [
        {
          "output_type": "stream",
          "text": [
            "3 33 333\n"
          ],
          "name": "stdout"
        }
      ]
    },
    {
      "cell_type": "code",
      "metadata": {
        "id": "hrAT0Luj3two",
        "colab_type": "code",
        "colab": {
          "base_uri": "https://localhost:8080/",
          "height": 34
        },
        "outputId": "2b92a3b7-8c46-41cb-bd00-7f3b6a2767a2"
      },
      "source": [
        "an_array[0] =888            # ndarrays are mutable, here we change an element of the array\n",
        "\n",
        "print(an_array)"
      ],
      "execution_count": null,
      "outputs": [
        {
          "output_type": "stream",
          "text": [
            "[888  33 333]\n"
          ],
          "name": "stdout"
        }
      ]
    },
    {
      "cell_type": "markdown",
      "metadata": {
        "id": "l2opst4C3tww",
        "colab_type": "text"
      },
      "source": [
        "\n",
        "\n",
        "####How to create a Rank 2 numpy array:</p>\n",
        "\n",
        "A rank 2 **ndarray** is one with two dimensions.  Notice the format below of [ [row] , [row] ].  2 dimensional arrays are great for representing matrices which are often useful in data science."
      ]
    },
    {
      "cell_type": "code",
      "metadata": {
        "id": "Zn3lbKVP3twz",
        "colab_type": "code",
        "colab": {
          "base_uri": "https://localhost:8080/",
          "height": 87
        },
        "outputId": "0aebc51a-fce8-4359-e057-c200fae7c688"
      },
      "source": [
        "another = np.array([[11,12,13],[21,22,23]])   # Create a rank 2 array\n",
        "\n",
        "print(another)  # print the array\n",
        "\n",
        "print(\"The shape is 2 rows, 3 columns: \", another.shape)  # rows x columns                   \n",
        "\n",
        "print(\"Accessing elements [0,0], [0,1], and [1,0] of the ndarray: \", another[0, 0], \", \",another[0, 1],\", \", another[1, 0])"
      ],
      "execution_count": null,
      "outputs": [
        {
          "output_type": "stream",
          "text": [
            "[[11 12 13]\n",
            " [21 22 23]]\n",
            "The shape is 2 rows, 3 columns:  (2, 3)\n",
            "Accessing elements [0,0], [0,1], and [1,0] of the ndarray:  11 ,  12 ,  21\n"
          ],
          "name": "stdout"
        }
      ]
    },
    {
      "cell_type": "markdown",
      "metadata": {
        "id": "nyD0Vkhb3tw6",
        "colab_type": "text"
      },
      "source": [
        "<p style=\"font-family: Arial; font-size:1.75em;color:#2462C0; font-style:bold\"><br>\n",
        "\n",
        "There are many way to create numpy arrays:\n",
        "</p>\n",
        "\n",
        "Here we create a number of different size arrays with different shapes and different pre-filled values.  numpy has a number of built in methods which help us quickly and easily create multidimensional arrays."
      ]
    },
    {
      "cell_type": "code",
      "metadata": {
        "id": "f_885QHU3tw8",
        "colab_type": "code",
        "colab": {
          "base_uri": "https://localhost:8080/",
          "height": 52
        },
        "outputId": "6249a049-cf59-4028-dcdc-0544633a3643"
      },
      "source": [
        "import numpy as np\n",
        "\n",
        "# create a 2x2 array of zeros\n",
        "ex1 = np.zeros((2,2))      \n",
        "print(ex1)                              "
      ],
      "execution_count": null,
      "outputs": [
        {
          "output_type": "stream",
          "text": [
            "[[0. 0.]\n",
            " [0. 0.]]\n"
          ],
          "name": "stdout"
        }
      ]
    },
    {
      "cell_type": "code",
      "metadata": {
        "id": "p6d7-ZhR3txE",
        "colab_type": "code",
        "colab": {
          "base_uri": "https://localhost:8080/",
          "height": 52
        },
        "outputId": "fc66105a-3052-4160-e690-5371a9659374"
      },
      "source": [
        "# create a 2x2 array filled with 9.0\n",
        "ex2 = np.full((2,2), 9.0)  \n",
        "print(ex2)   "
      ],
      "execution_count": null,
      "outputs": [
        {
          "output_type": "stream",
          "text": [
            "[[9. 9.]\n",
            " [9. 9.]]\n"
          ],
          "name": "stdout"
        }
      ]
    },
    {
      "cell_type": "code",
      "metadata": {
        "id": "uMch8BMp3txL",
        "colab_type": "code",
        "colab": {
          "base_uri": "https://localhost:8080/",
          "height": 52
        },
        "outputId": "e999ffa6-6591-4b13-9914-9e97ccdb1239"
      },
      "source": [
        "# create a 2x2 matrix with the diagonal 1s and the others 0\n",
        "ex3 = np.eye(2)\n",
        "print(ex3)  "
      ],
      "execution_count": null,
      "outputs": [
        {
          "output_type": "stream",
          "text": [
            "[[1. 0.]\n",
            " [0. 1.]]\n"
          ],
          "name": "stdout"
        }
      ]
    },
    {
      "cell_type": "markdown",
      "metadata": {
        "id": "efejwiXM_sQb",
        "colab_type": "text"
      },
      "source": [
        "\n",
        "\n",
        "*   Hi\n",
        "*   Hello\n",
        "\n"
      ]
    },
    {
      "cell_type": "code",
      "metadata": {
        "id": "bzCcDU2K3txQ",
        "colab_type": "code",
        "colab": {
          "base_uri": "https://localhost:8080/",
          "height": 34
        },
        "outputId": "5b50bca3-07df-4f10-ea25-08741d47b568"
      },
      "source": [
        "# create an array of ones\n",
        "ex4 = np.ones((1,2))\n",
        "print(ex4)    "
      ],
      "execution_count": null,
      "outputs": [
        {
          "output_type": "stream",
          "text": [
            "[[1. 1.]]\n"
          ],
          "name": "stdout"
        }
      ]
    },
    {
      "cell_type": "code",
      "metadata": {
        "id": "lNTDqCfZ3txY",
        "colab_type": "code",
        "colab": {
          "base_uri": "https://localhost:8080/",
          "height": 70
        },
        "outputId": "5bfc9c9a-a45a-4b6a-c27d-2ea9ae088a57"
      },
      "source": [
        "# notice that the above ndarray (ex4) is actually rank 2, it is a 2x1 array\n",
        "print(ex4.shape)\n",
        "\n",
        "# which means we need to use two indexes to access an element\n",
        "print()\n",
        "print(ex4[0,1])"
      ],
      "execution_count": null,
      "outputs": [
        {
          "output_type": "stream",
          "text": [
            "(1, 2)\n",
            "\n",
            "1.0\n"
          ],
          "name": "stdout"
        }
      ]
    },
    {
      "cell_type": "code",
      "metadata": {
        "id": "hQ-fsex03txf",
        "colab_type": "code",
        "colab": {
          "base_uri": "https://localhost:8080/",
          "height": 52
        },
        "outputId": "db82b98c-5c96-44a6-f07b-6d035ae942ab"
      },
      "source": [
        "# create an array of random floats between 0 and 1\n",
        "ex5 = np.random.randint(0,5, (2,2))\n",
        "print(ex5)    "
      ],
      "execution_count": null,
      "outputs": [
        {
          "output_type": "stream",
          "text": [
            "[[4 3]\n",
            " [1 0]]\n"
          ],
          "name": "stdout"
        }
      ]
    },
    {
      "cell_type": "markdown",
      "metadata": {
        "id": "-7cfd0lI3txm",
        "colab_type": "text"
      },
      "source": [
        "\n",
        "\n",
        "###Array Indexing\n"
      ]
    },
    {
      "cell_type": "markdown",
      "metadata": {
        "id": "vKYbRSHnseEu",
        "colab_type": "text"
      },
      "source": [
        "####Slice indexing"
      ]
    },
    {
      "cell_type": "markdown",
      "metadata": {
        "id": "_FKteRgk3txn",
        "colab_type": "text"
      },
      "source": [
        "Similar to the use of slice indexing with lists and strings, we can use slice indexing to pull out sub-regions of ndarrays."
      ]
    },
    {
      "cell_type": "code",
      "metadata": {
        "id": "f7a2Jmov3txp",
        "colab_type": "code",
        "colab": {
          "base_uri": "https://localhost:8080/",
          "height": 72
        },
        "outputId": "626489df-43a9-4332-acb4-2ca912bbeb88"
      },
      "source": [
        "import numpy as np\n",
        "\n",
        "# Rank 2 array of shape (3, 4)\n",
        "an_array = np.array([[11,12,13,14], [21,22,23,24], [31,32,33,34]])\n",
        "print(an_array)"
      ],
      "execution_count": null,
      "outputs": [
        {
          "output_type": "stream",
          "text": [
            "[[11 12 13 14]\n",
            " [21 22 23 24]\n",
            " [31 32 33 34]]\n"
          ],
          "name": "stdout"
        }
      ]
    },
    {
      "cell_type": "markdown",
      "metadata": {
        "id": "osQ1uWZo3txw",
        "colab_type": "text"
      },
      "source": [
        "Use array slicing to get a subarray consisting of the first 2 rows x 2 columns."
      ]
    },
    {
      "cell_type": "code",
      "metadata": {
        "id": "DfskH4AH3txx",
        "colab_type": "code",
        "colab": {
          "base_uri": "https://localhost:8080/",
          "height": 54
        },
        "outputId": "49cdda09-c3bc-473a-c2dd-1f0c08dd0626"
      },
      "source": [
        "a_slice = an_array[:2, :2]\n",
        "print(a_slice)"
      ],
      "execution_count": null,
      "outputs": [
        {
          "output_type": "stream",
          "text": [
            "[[11 12]\n",
            " [21 22]]\n"
          ],
          "name": "stdout"
        }
      ]
    },
    {
      "cell_type": "markdown",
      "metadata": {
        "id": "z1I8FQYM3tx4",
        "colab_type": "text"
      },
      "source": [
        "When you modify a slice, you actually modify the underlying array."
      ]
    },
    {
      "cell_type": "code",
      "metadata": {
        "id": "8A7l5AGP3tx6",
        "colab_type": "code",
        "colab": {
          "base_uri": "https://localhost:8080/",
          "height": 54
        },
        "outputId": "66ab91a1-af48-4cbd-833b-80091936524b"
      },
      "source": [
        "print(\"Before:\", an_array[0, 1])   #inspect the element at 0, 1  \n",
        "a_slice[0, 0] = 1000    # a_slice[0, 0] is the same piece of data as an_array[0, 1]\n",
        "print(\"After:\", an_array[0, 1])    "
      ],
      "execution_count": null,
      "outputs": [
        {
          "output_type": "stream",
          "text": [
            "Before: 12\n",
            "After: 12\n"
          ],
          "name": "stdout"
        }
      ]
    },
    {
      "cell_type": "markdown",
      "metadata": {
        "id": "OEyxD7Cu3tx_",
        "colab_type": "text"
      },
      "source": [
        "<p style=\"font-family: Arial; font-size:1.75em;color:#2462C0; font-style:bold\"><br>\n",
        "\n",
        "Use both integer indexing & slice indexing\n",
        "</p>\n",
        "\n",
        "We can use combinations of integer indexing and slice indexing to create different shaped matrices."
      ]
    },
    {
      "cell_type": "code",
      "metadata": {
        "id": "aAU4CqG-3tyA",
        "colab_type": "code",
        "colab": {
          "base_uri": "https://localhost:8080/",
          "height": 72
        },
        "outputId": "8efe4f34-0b8a-4be1-ea5d-f150bdb9acbc"
      },
      "source": [
        "# Create a Rank 2 array of shape (3, 4)\n",
        "an_array = np.array([[11,12,13,14], [21,22,23,24], [31,32,33,34]])\n",
        "print(an_array)"
      ],
      "execution_count": null,
      "outputs": [
        {
          "output_type": "stream",
          "text": [
            "[[11 12 13 14]\n",
            " [21 22 23 24]\n",
            " [31 32 33 34]]\n"
          ],
          "name": "stdout"
        }
      ]
    },
    {
      "cell_type": "code",
      "metadata": {
        "id": "uQblLM243tyG",
        "colab_type": "code",
        "colab": {
          "base_uri": "https://localhost:8080/",
          "height": 35
        },
        "outputId": "6da363bf-bf5e-44ba-b8fa-9140a573b983"
      },
      "source": [
        "# Using both integer indexing & slicing generates an array of lower rank\n",
        "row_rank1 = an_array[1, :]    # Rank 1 view \n",
        "\n",
        "print(row_rank1, row_rank1.shape)  # notice only a single []"
      ],
      "execution_count": null,
      "outputs": [
        {
          "output_type": "stream",
          "text": [
            "[21 22 23 24] (4,)\n"
          ],
          "name": "stdout"
        }
      ]
    },
    {
      "cell_type": "code",
      "metadata": {
        "id": "qY8flyx43tyL",
        "colab_type": "code",
        "colab": {
          "base_uri": "https://localhost:8080/",
          "height": 35
        },
        "outputId": "e13dbde0-b79d-4482-d184-dda8a3d4bfcb"
      },
      "source": [
        "# Slicing alone: generates an array of the same rank as the an_array\n",
        "row_rank2 = an_array[1:2, :]  # Rank 2 view \n",
        "\n",
        "print(row_rank2, row_rank2.shape)   # Notice the [[ ]]"
      ],
      "execution_count": null,
      "outputs": [
        {
          "output_type": "stream",
          "text": [
            "[[21 22 23 24]] (1, 4)\n"
          ],
          "name": "stdout"
        }
      ]
    },
    {
      "cell_type": "code",
      "metadata": {
        "id": "3zCDN65w3tyQ",
        "colab_type": "code",
        "colab": {
          "base_uri": "https://localhost:8080/",
          "height": 127
        },
        "outputId": "724dd700-2e2e-41d1-f581-7b5e956462e6"
      },
      "source": [
        "#We can do the same thing for columns of an array:\n",
        "\n",
        "print()\n",
        "col_rank1 = an_array[:, 1]\n",
        "col_rank2 = an_array[:, 1:2]\n",
        "\n",
        "print(col_rank1, col_rank1.shape)  # Rank 1\n",
        "print()\n",
        "print(col_rank2, col_rank2.shape)  # Rank 2"
      ],
      "execution_count": null,
      "outputs": [
        {
          "output_type": "stream",
          "text": [
            "\n",
            "[12 22 32] (3,)\n",
            "\n",
            "[[12]\n",
            " [22]\n",
            " [32]] (3, 1)\n"
          ],
          "name": "stdout"
        }
      ]
    },
    {
      "cell_type": "markdown",
      "metadata": {
        "id": "shSkpeln3tyV",
        "colab_type": "text"
      },
      "source": [
        "<p style=\"font-family: Arial; font-size:1.75em;color:#2462C0; font-style:bold\"><br>\n",
        "\n",
        "Array Indexing for changing elements:\n",
        "</p>"
      ]
    },
    {
      "cell_type": "markdown",
      "metadata": {
        "id": "mjLWbj5T3tyX",
        "colab_type": "text"
      },
      "source": [
        "Sometimes it's useful to use an array of indexes to access or change elements."
      ]
    },
    {
      "cell_type": "code",
      "metadata": {
        "id": "8En_6XK43tyY",
        "colab_type": "code",
        "colab": {
          "base_uri": "https://localhost:8080/",
          "height": 109
        },
        "outputId": "49fbed1b-86bb-411d-d69a-8f4489dbfd0f"
      },
      "source": [
        "# Create a new array\n",
        "an_array = np.array([[11,12,13], [21,22,23], [31,32,33], [41,42,43]])\n",
        "\n",
        "print('Original Array:')\n",
        "print(an_array)"
      ],
      "execution_count": null,
      "outputs": [
        {
          "output_type": "stream",
          "text": [
            "Original Array:\n",
            "[[11 12 13]\n",
            " [21 22 23]\n",
            " [31 32 33]\n",
            " [41 42 43]]\n"
          ],
          "name": "stdout"
        }
      ]
    },
    {
      "cell_type": "code",
      "metadata": {
        "id": "0LZBIEBd3tyc",
        "colab_type": "code",
        "colab": {
          "base_uri": "https://localhost:8080/",
          "height": 90
        },
        "outputId": "bb4d4e64-9691-413d-fd35-7083ec8d90e2"
      },
      "source": [
        "# Create an array of indices\n",
        "col_indices = np.array([0, 1, 2, 0])\n",
        "print('\\nCol indices picked : ', col_indices)\n",
        "\n",
        "row_indices = np.arange(4)\n",
        "print('\\nRows indices picked : ', row_indices)"
      ],
      "execution_count": null,
      "outputs": [
        {
          "output_type": "stream",
          "text": [
            "\n",
            "Col indices picked :  [0 1 2 0]\n",
            "\n",
            "Rows indices picked :  [0 1 2 3]\n"
          ],
          "name": "stdout"
        }
      ]
    },
    {
      "cell_type": "code",
      "metadata": {
        "id": "PhY4VSVF3tyh",
        "colab_type": "code",
        "colab": {
          "base_uri": "https://localhost:8080/",
          "height": 90
        },
        "outputId": "a270e5d3-483a-4779-f743-b94182231070"
      },
      "source": [
        "# Examine the pairings of row_indices and col_indices.  These are the elements we'll change next.\n",
        "for row,col in zip(row_indices,col_indices):\n",
        "    print(row, \", \",col)"
      ],
      "execution_count": null,
      "outputs": [
        {
          "output_type": "stream",
          "text": [
            "0 ,  0\n",
            "1 ,  1\n",
            "2 ,  2\n",
            "3 ,  0\n"
          ],
          "name": "stdout"
        }
      ]
    },
    {
      "cell_type": "code",
      "metadata": {
        "id": "3K1S_Q_J3tym",
        "colab_type": "code",
        "colab": {
          "base_uri": "https://localhost:8080/",
          "height": 35
        },
        "outputId": "c814421e-34b9-438e-a319-b852e40017ad"
      },
      "source": [
        "# Select one element from each row\n",
        "print('Values in the array at those indices: ',an_array[row_indices, col_indices])"
      ],
      "execution_count": null,
      "outputs": [
        {
          "output_type": "stream",
          "text": [
            "Values in the array at those indices:  [11 22 33 41]\n"
          ],
          "name": "stdout"
        }
      ]
    },
    {
      "cell_type": "code",
      "metadata": {
        "id": "CBdUFBQl3tyq",
        "colab_type": "code",
        "colab": {
          "base_uri": "https://localhost:8080/",
          "height": 127
        },
        "outputId": "b93f0df6-4668-4cf9-bf9c-256b942285a1"
      },
      "source": [
        "# Change one element from each row using the indices selected\n",
        "an_array[row_indices, col_indices] += 100000\n",
        "\n",
        "print('\\nChanged Array:')\n",
        "print(an_array)"
      ],
      "execution_count": null,
      "outputs": [
        {
          "output_type": "stream",
          "text": [
            "\n",
            "Changed Array:\n",
            "[[100011     12     13]\n",
            " [    21 100022     23]\n",
            " [    31     32 100033]\n",
            " [100041     42     43]]\n"
          ],
          "name": "stdout"
        }
      ]
    },
    {
      "cell_type": "markdown",
      "metadata": {
        "id": "dTgpW-EFsZlu",
        "colab_type": "text"
      },
      "source": [
        "####Boolean Indexing"
      ]
    },
    {
      "cell_type": "markdown",
      "metadata": {
        "id": "PeHzfHiK3tyu",
        "colab_type": "text"
      },
      "source": [
        "\n",
        "Array Indexing for changing elements:\n"
      ]
    },
    {
      "cell_type": "code",
      "metadata": {
        "id": "uNM__IzX3tyv",
        "colab_type": "code",
        "colab": {
          "base_uri": "https://localhost:8080/"
        },
        "outputId": "d61a3742-75f3-4ca6-8471-070f27627a19"
      },
      "source": [
        "# create a 3x2 array\n",
        "an_array = np.array([[11,12], [21, 22], [31, 32]])\n",
        "print(an_array)"
      ],
      "execution_count": null,
      "outputs": [
        {
          "output_type": "stream",
          "text": [
            "[[11 12]\n",
            " [21 22]\n",
            " [31 32]]\n"
          ],
          "name": "stdout"
        }
      ]
    },
    {
      "cell_type": "code",
      "metadata": {
        "id": "YjNRgTBm3ty0",
        "colab_type": "code",
        "colab": {
          "base_uri": "https://localhost:8080/"
        },
        "outputId": "57606e49-3f1c-4dbc-e45c-dc9f09854e1f"
      },
      "source": [
        "# create a filter which will be boolean values for whether each element meets this condition\n",
        "filter = (an_array > 15)\n",
        "filter"
      ],
      "execution_count": null,
      "outputs": [
        {
          "output_type": "execute_result",
          "data": {
            "text/plain": [
              "array([[False, False],\n",
              "       [ True,  True],\n",
              "       [ True,  True]])"
            ]
          },
          "metadata": {
            "tags": []
          },
          "execution_count": 37
        }
      ]
    },
    {
      "cell_type": "markdown",
      "metadata": {
        "id": "oeTdDwZh3ty7",
        "colab_type": "text"
      },
      "source": [
        "Notice that the filter is a same size ndarray as an_array which is filled with True for each element whose corresponding element in an_array which is greater than 15 and False for those elements whose value is less than 15."
      ]
    },
    {
      "cell_type": "code",
      "metadata": {
        "id": "uX-Z9RTx3ty8",
        "colab_type": "code",
        "colab": {
          "base_uri": "https://localhost:8080/"
        },
        "outputId": "1d7c680a-e3d9-4b5b-c3b8-51cf26044527"
      },
      "source": [
        "# we can now select just those elements which meet that criteria\n",
        "print(an_array[filter])"
      ],
      "execution_count": null,
      "outputs": [
        {
          "output_type": "stream",
          "text": [
            "[21 22 31 32]\n"
          ],
          "name": "stdout"
        }
      ]
    },
    {
      "cell_type": "code",
      "metadata": {
        "id": "-0PHENJu3tzA",
        "colab_type": "code",
        "colab": {
          "base_uri": "https://localhost:8080/"
        },
        "outputId": "b92343c4-81de-4cc0-9133-618c4fc5cfb1"
      },
      "source": [
        "# For short, we could have just used the approach below without the need for the separate filter array.\n",
        "\n",
        "an_array[(an_array % 2 == 0)]"
      ],
      "execution_count": null,
      "outputs": [
        {
          "output_type": "execute_result",
          "data": {
            "text/plain": [
              "array([12, 22, 32])"
            ]
          },
          "metadata": {
            "tags": []
          },
          "execution_count": 39
        }
      ]
    },
    {
      "cell_type": "markdown",
      "metadata": {
        "id": "O5flXBYo3tzE",
        "colab_type": "text"
      },
      "source": [
        "What is particularly useful is that we can actually change elements in the array applying a similar logical filter.  Let's add 100 to all the even values."
      ]
    },
    {
      "cell_type": "code",
      "metadata": {
        "id": "pJF3ktw83tzF",
        "colab_type": "code",
        "colab": {
          "base_uri": "https://localhost:8080/"
        },
        "outputId": "1dafae93-23c2-4680-e95d-15f839428eb4"
      },
      "source": [
        "an_array[an_array % 2 == 0] +=100\n",
        "print(an_array)"
      ],
      "execution_count": null,
      "outputs": [
        {
          "output_type": "stream",
          "text": [
            "[[ 11 112]\n",
            " [ 21 122]\n",
            " [ 31 132]]\n"
          ],
          "name": "stdout"
        }
      ]
    },
    {
      "cell_type": "markdown",
      "metadata": {
        "id": "6YZkNp5S3t2y",
        "colab_type": "text"
      },
      "source": [
        "\n",
        "\n",
        "####Indexing using where()"
      ]
    },
    {
      "cell_type": "markdown",
      "metadata": {
        "id": "XLeAie_HUkHU",
        "colab_type": "text"
      },
      "source": [
        "numpy.where(condition, x, y) : If condition is true, returns elements chosen from x, else returns elements from y."
      ]
    },
    {
      "cell_type": "code",
      "metadata": {
        "id": "_dbVLDTgVJPk",
        "colab_type": "code",
        "colab": {
          "base_uri": "https://localhost:8080/",
          "height": 54
        },
        "outputId": "2db72b8e-c113-4d97-ce99-bb34e192cc18"
      },
      "source": [
        "x = 3\n",
        "y = 5\n",
        "out = np.where(False,x,y)\n",
        "print(out)\n",
        "out = np.where(True,x,y)\n",
        "print(out)"
      ],
      "execution_count": null,
      "outputs": [
        {
          "output_type": "stream",
          "text": [
            "5\n",
            "3\n"
          ],
          "name": "stdout"
        }
      ]
    },
    {
      "cell_type": "code",
      "metadata": {
        "id": "qsr4BzHQ3t20",
        "colab_type": "code",
        "colab": {}
      },
      "source": [
        "x_1 = np.array([1,2,3,4,5])\n",
        "\n",
        "y_1 = np.array([11,22,33,44,55])\n",
        "\n",
        "filter = np.array([True, False, True, False, True])"
      ],
      "execution_count": null,
      "outputs": []
    },
    {
      "cell_type": "code",
      "metadata": {
        "id": "kZpbhLro3t3E",
        "colab_type": "code",
        "colab": {
          "base_uri": "https://localhost:8080/",
          "height": 35
        },
        "outputId": "bb9becb9-cc7b-444d-c60e-344cbb690f80"
      },
      "source": [
        "out = np.where(filter, x_1, y_1)\n",
        "print(out)"
      ],
      "execution_count": null,
      "outputs": [
        {
          "output_type": "stream",
          "text": [
            "[ 1 22  3 44  5]\n"
          ],
          "name": "stdout"
        }
      ]
    },
    {
      "cell_type": "code",
      "metadata": {
        "id": "snO2OH5Z3t3G",
        "colab_type": "code",
        "colab": {
          "base_uri": "https://localhost:8080/",
          "height": 109
        },
        "outputId": "3cfd1246-80b5-4ae8-f93a-4060b90c9ce4"
      },
      "source": [
        "mat = np.random.rand(5,5)\n",
        "mat"
      ],
      "execution_count": null,
      "outputs": [
        {
          "output_type": "execute_result",
          "data": {
            "text/plain": [
              "array([[0.30241328, 0.27894455, 0.26603758, 0.95541553, 0.38680197],\n",
              "       [0.2229364 , 0.39796418, 0.59986089, 0.74384064, 0.53969004],\n",
              "       [0.65837704, 0.70231085, 0.99899757, 0.52842333, 0.27120678],\n",
              "       [0.44669489, 0.57946636, 0.71362162, 0.42675244, 0.17190909],\n",
              "       [0.81122551, 0.47517656, 0.23839066, 0.57167157, 0.77903051]])"
            ]
          },
          "metadata": {
            "tags": []
          },
          "execution_count": 44
        }
      ]
    },
    {
      "cell_type": "code",
      "metadata": {
        "id": "TsOOE7xl3t3I",
        "colab_type": "code",
        "colab": {
          "base_uri": "https://localhost:8080/",
          "height": 109
        },
        "outputId": "c9305868-cace-44e5-aa8b-338639e38725"
      },
      "source": [
        "np.where( mat > 0.5, 1000, -1)"
      ],
      "execution_count": null,
      "outputs": [
        {
          "output_type": "execute_result",
          "data": {
            "text/plain": [
              "array([[  -1,   -1,   -1, 1000,   -1],\n",
              "       [  -1,   -1, 1000, 1000, 1000],\n",
              "       [1000, 1000, 1000, 1000,   -1],\n",
              "       [  -1, 1000, 1000,   -1,   -1],\n",
              "       [1000,   -1,   -1, 1000, 1000]])"
            ]
          },
          "metadata": {
            "tags": []
          },
          "execution_count": 45
        }
      ]
    },
    {
      "cell_type": "markdown",
      "metadata": {
        "id": "OwH3plnNlkLt",
        "colab_type": "text"
      },
      "source": [
        "###Datatypes and Array Operations "
      ]
    },
    {
      "cell_type": "markdown",
      "metadata": {
        "id": "8iR8uj0t3tzK",
        "colab_type": "text"
      },
      "source": [
        "\n",
        "####Datatypes\n"
      ]
    },
    {
      "cell_type": "code",
      "metadata": {
        "id": "LozI2hro3tzL",
        "colab_type": "code",
        "colab": {
          "base_uri": "https://localhost:8080/"
        },
        "outputId": "8dfb8871-5383-4573-ea81-372b2d0410c0"
      },
      "source": [
        "ex1 = np.array([11, 12]) # Python assigns the  data type\n",
        "print(ex1.dtype)"
      ],
      "execution_count": null,
      "outputs": [
        {
          "output_type": "stream",
          "text": [
            "int64\n"
          ],
          "name": "stdout"
        }
      ]
    },
    {
      "cell_type": "code",
      "metadata": {
        "id": "DhBUd1cZ3tzQ",
        "colab_type": "code",
        "colab": {
          "base_uri": "https://localhost:8080/"
        },
        "outputId": "d0eaf459-862e-4807-ebad-942bf504d10b"
      },
      "source": [
        "ex2 = np.array([11.0, 12.0]) # Python assigns the  data type\n",
        "print(ex2.dtype)"
      ],
      "execution_count": null,
      "outputs": [
        {
          "output_type": "stream",
          "text": [
            "float64\n"
          ],
          "name": "stdout"
        }
      ]
    },
    {
      "cell_type": "code",
      "metadata": {
        "id": "EsgluN-A3tzS",
        "colab_type": "code",
        "colab": {
          "base_uri": "https://localhost:8080/"
        },
        "outputId": "37ddaab4-fb28-4d0f-fb66-7588da8bcc8e"
      },
      "source": [
        "ex3 = np.array([11, 21], dtype=np.int64) #You can also tell Python the  data type\n",
        "print(ex3.dtype)"
      ],
      "execution_count": null,
      "outputs": [
        {
          "output_type": "stream",
          "text": [
            "int64\n"
          ],
          "name": "stdout"
        }
      ]
    },
    {
      "cell_type": "code",
      "metadata": {
        "id": "u2FAn8tz3tzX",
        "colab_type": "code",
        "colab": {
          "base_uri": "https://localhost:8080/"
        },
        "outputId": "aa99b568-0ca9-4013-852f-1054b0cc4b3c"
      },
      "source": [
        "# you can use this to force floats into integers (using floor function)\n",
        "ex4 = np.array([11.1,12.7], dtype=np.int64)\n",
        "print(ex4.dtype)\n",
        "print()\n",
        "print(ex4)"
      ],
      "execution_count": null,
      "outputs": [
        {
          "output_type": "stream",
          "text": [
            "int64\n",
            "\n",
            "[11 12]\n"
          ],
          "name": "stdout"
        }
      ]
    },
    {
      "cell_type": "code",
      "metadata": {
        "id": "EYjitift3tzb",
        "colab_type": "code",
        "colab": {
          "base_uri": "https://localhost:8080/"
        },
        "outputId": "ecc8457e-78ae-4efa-df2c-3e5c7e5c488e"
      },
      "source": [
        "# you can use this to force integers into floats if you anticipate\n",
        "# the values may change to floats later\n",
        "ex5 = np.array([11, 21], dtype=np.float64)\n",
        "print(ex5.dtype)\n",
        "print()\n",
        "print(ex5)"
      ],
      "execution_count": null,
      "outputs": [
        {
          "output_type": "stream",
          "text": [
            "float64\n",
            "\n",
            "[11. 21.]\n"
          ],
          "name": "stdout"
        }
      ]
    },
    {
      "cell_type": "markdown",
      "metadata": {
        "id": "rzA4sw-F3tzd",
        "colab_type": "text"
      },
      "source": [
        "####Arithmetic Array Operations\n",
        "\n"
      ]
    },
    {
      "cell_type": "code",
      "metadata": {
        "id": "nq1YXtma3tzf",
        "colab_type": "code",
        "colab": {
          "base_uri": "https://localhost:8080/",
          "height": 109
        },
        "outputId": "a8e6f414-02b2-4591-c5cd-80bf04baf443"
      },
      "source": [
        "x = np.array([[111,112],[121,122]], dtype=np.int)\n",
        "y = np.array([[211.1,212.1],[221.1,222.1]], dtype=np.float64)\n",
        "\n",
        "print(x)\n",
        "print()\n",
        "print(y)"
      ],
      "execution_count": null,
      "outputs": [
        {
          "output_type": "stream",
          "text": [
            "[[111 112]\n",
            " [121 122]]\n",
            "\n",
            "[[211.1 212.1]\n",
            " [221.1 222.1]]\n"
          ],
          "name": "stdout"
        }
      ]
    },
    {
      "cell_type": "code",
      "metadata": {
        "id": "JRFGiEVZ3tzj",
        "colab_type": "code",
        "colab": {
          "base_uri": "https://localhost:8080/",
          "height": 109
        },
        "outputId": "6646c255-4c84-4704-a0ff-ee4cd471d356"
      },
      "source": [
        "# add\n",
        "print(x + y)         # The plus sign works\n",
        "print()\n",
        "print(np.add(x, y))  # so does the numpy function \"add\""
      ],
      "execution_count": null,
      "outputs": [
        {
          "output_type": "stream",
          "text": [
            "[[322.1 324.1]\n",
            " [342.1 344.1]]\n",
            "\n",
            "[[322.1 324.1]\n",
            " [342.1 344.1]]\n"
          ],
          "name": "stdout"
        }
      ]
    },
    {
      "cell_type": "code",
      "metadata": {
        "id": "AzvLg9Db3tzm",
        "colab_type": "code",
        "colab": {
          "base_uri": "https://localhost:8080/",
          "height": 109
        },
        "outputId": "3a5a3881-6bb5-4d41-bd29-b8dd98667abe"
      },
      "source": [
        "# subtract\n",
        "print(x - y)\n",
        "print()\n",
        "print(np.subtract(x, y))"
      ],
      "execution_count": null,
      "outputs": [
        {
          "output_type": "stream",
          "text": [
            "[[-100.1 -100.1]\n",
            " [-100.1 -100.1]]\n",
            "\n",
            "[[-100.1 -100.1]\n",
            " [-100.1 -100.1]]\n"
          ],
          "name": "stdout"
        }
      ]
    },
    {
      "cell_type": "code",
      "metadata": {
        "id": "Q8ZJ_ci63tzr",
        "colab_type": "code",
        "colab": {
          "base_uri": "https://localhost:8080/",
          "height": 109
        },
        "outputId": "4db87d9a-8454-491c-b1df-e9517c6f4437"
      },
      "source": [
        "# multiply\n",
        "print(x * y)\n",
        "print()\n",
        "print(np.multiply(x, y))"
      ],
      "execution_count": null,
      "outputs": [
        {
          "output_type": "stream",
          "text": [
            "[[23432.1 23755.2]\n",
            " [26753.1 27096.2]]\n",
            "\n",
            "[[23432.1 23755.2]\n",
            " [26753.1 27096.2]]\n"
          ],
          "name": "stdout"
        }
      ]
    },
    {
      "cell_type": "code",
      "metadata": {
        "id": "ABD3F6Zr3tzv",
        "colab_type": "code",
        "colab": {
          "base_uri": "https://localhost:8080/",
          "height": 109
        },
        "outputId": "8a2129eb-ac03-4dc5-f339-be8333845ce8"
      },
      "source": [
        "# divide\n",
        "print(x / y)\n",
        "print()\n",
        "print(np.divide(x, y))"
      ],
      "execution_count": null,
      "outputs": [
        {
          "output_type": "stream",
          "text": [
            "[[0.52581715 0.52805281]\n",
            " [0.54726368 0.54930212]]\n",
            "\n",
            "[[0.52581715 0.52805281]\n",
            " [0.54726368 0.54930212]]\n"
          ],
          "name": "stdout"
        }
      ]
    },
    {
      "cell_type": "code",
      "metadata": {
        "id": "SYwWP0j63tz0",
        "colab_type": "code",
        "colab": {
          "base_uri": "https://localhost:8080/",
          "height": 54
        },
        "outputId": "5f05431c-5e7e-4404-e7d6-c35fbbb2b9bf"
      },
      "source": [
        "# square root\n",
        "print(np.sqrt(x))"
      ],
      "execution_count": null,
      "outputs": [
        {
          "output_type": "stream",
          "text": [
            "[[10.53565375 10.58300524]\n",
            " [11.         11.04536102]]\n"
          ],
          "name": "stdout"
        }
      ]
    },
    {
      "cell_type": "code",
      "metadata": {
        "id": "IpmSDp5-3tz4",
        "colab_type": "code",
        "colab": {
          "base_uri": "https://localhost:8080/",
          "height": 54
        },
        "outputId": "c5124c0e-1a32-4328-9e4b-b842aa9b3805"
      },
      "source": [
        "# exponent (e ** x)\n",
        "print(np.exp(x))"
      ],
      "execution_count": null,
      "outputs": [
        {
          "output_type": "stream",
          "text": [
            "[[1.60948707e+48 4.37503945e+48]\n",
            " [3.54513118e+52 9.63666567e+52]]\n"
          ],
          "name": "stdout"
        }
      ]
    },
    {
      "cell_type": "markdown",
      "metadata": {
        "id": "4287Rnud3tz9",
        "colab_type": "text"
      },
      "source": [
        "\n",
        "\n",
        "####Basic Statistical Operations\n"
      ]
    },
    {
      "cell_type": "code",
      "metadata": {
        "id": "MGA6F3Xe3tz-",
        "colab_type": "code",
        "colab": {
          "base_uri": "https://localhost:8080/",
          "height": 54
        },
        "outputId": "4766c34d-9046-4bef-fb37-3b088ea2366b"
      },
      "source": [
        "# setup a random 2 x 5 matrix\n",
        "arr = 10 * np.random.randn(2,5)\n",
        "print(arr)"
      ],
      "execution_count": null,
      "outputs": [
        {
          "output_type": "stream",
          "text": [
            "[[  1.63167714  -5.90912299   6.88971868 -13.26904146  -7.84936069]\n",
            " [-18.07793719  28.33822971 -11.22172105 -13.04858687 -11.9361047 ]]\n"
          ],
          "name": "stdout"
        }
      ]
    },
    {
      "cell_type": "code",
      "metadata": {
        "id": "FKP_P-lP3t0B",
        "colab_type": "code",
        "colab": {
          "base_uri": "https://localhost:8080/",
          "height": 35
        },
        "outputId": "c6804671-fef2-4d6b-dbd3-b11caabe29f5"
      },
      "source": [
        "# compute the mean for all elements\n",
        "print(arr.mean())"
      ],
      "execution_count": null,
      "outputs": [
        {
          "output_type": "stream",
          "text": [
            "-4.445224940223871\n"
          ],
          "name": "stdout"
        }
      ]
    },
    {
      "cell_type": "code",
      "metadata": {
        "id": "KQQma6mF3t0G",
        "colab_type": "code",
        "colab": {
          "base_uri": "https://localhost:8080/",
          "height": 35
        },
        "outputId": "329906d7-3cc0-4fba-cab2-2a7f40b6e709"
      },
      "source": [
        "# compute the means by row\n",
        "print(arr.mean(axis = 1))"
      ],
      "execution_count": null,
      "outputs": [
        {
          "output_type": "stream",
          "text": [
            "[-3.70122586 -5.18922402]\n"
          ],
          "name": "stdout"
        }
      ]
    },
    {
      "cell_type": "code",
      "metadata": {
        "id": "8kYDGbOe3t0J",
        "colab_type": "code",
        "colab": {
          "base_uri": "https://localhost:8080/",
          "height": 35
        },
        "outputId": "beba8626-ad13-464a-fcc6-32d06b6ba686"
      },
      "source": [
        "# compute the means by column\n",
        "print(arr.mean(axis = 0))"
      ],
      "execution_count": null,
      "outputs": [
        {
          "output_type": "stream",
          "text": [
            "[ -8.22313002  11.21455336  -2.16600118 -13.15881416  -9.89273269]\n"
          ],
          "name": "stdout"
        }
      ]
    },
    {
      "cell_type": "code",
      "metadata": {
        "id": "vXdKwXoy3t0Y",
        "colab_type": "code",
        "colab": {
          "base_uri": "https://localhost:8080/",
          "height": 35
        },
        "outputId": "0ec7d8f4-b3d2-4ffb-daba-e5ac7d1681ad"
      },
      "source": [
        "# sum all the elements\n",
        "print(arr.sum())"
      ],
      "execution_count": null,
      "outputs": [
        {
          "output_type": "stream",
          "text": [
            "-44.45224940223871\n"
          ],
          "name": "stdout"
        }
      ]
    },
    {
      "cell_type": "code",
      "metadata": {
        "id": "f8ov-YMa3t0b",
        "colab_type": "code",
        "colab": {
          "base_uri": "https://localhost:8080/",
          "height": 35
        },
        "outputId": "94a0cd7d-95b0-487a-c3b0-d4446f964443"
      },
      "source": [
        "# compute the medians\n",
        "print(np.median(arr, axis = 1))"
      ],
      "execution_count": null,
      "outputs": [
        {
          "output_type": "stream",
          "text": [
            "[ -5.90912299 -11.9361047 ]\n"
          ],
          "name": "stdout"
        }
      ]
    },
    {
      "cell_type": "markdown",
      "metadata": {
        "id": "okO0QcLq3t0f",
        "colab_type": "text"
      },
      "source": [
        "\n",
        "####Sorting\n",
        "\n"
      ]
    },
    {
      "cell_type": "code",
      "metadata": {
        "id": "pZhLuKi73t0h",
        "colab_type": "code",
        "colab": {
          "base_uri": "https://localhost:8080/"
        },
        "outputId": "7a9f0afe-51ec-4469-f5e8-50f47edebab7"
      },
      "source": [
        "# create a 10 element array of randoms\n",
        "unsorted = np.random.randn(10)\n",
        "\n",
        "print(unsorted)"
      ],
      "execution_count": null,
      "outputs": [
        {
          "output_type": "stream",
          "text": [
            "[ 0.99287786  0.98923027 -0.74940585  1.22594613 -1.3133651  -0.28910285\n",
            "  0.23982418  0.43338709  0.53160691 -0.58416302]\n"
          ],
          "name": "stdout"
        }
      ]
    },
    {
      "cell_type": "code",
      "metadata": {
        "id": "Av4SuzGW3t0l",
        "colab_type": "code",
        "colab": {
          "base_uri": "https://localhost:8080/"
        },
        "outputId": "fd339d83-46e9-438c-eb8c-e9e3672e6f84"
      },
      "source": [
        "# create copy and sort\n",
        "sorted = np.array(unsorted)\n",
        "sorted.sort()\n",
        "\n",
        "print(sorted)\n",
        "print()\n",
        "print(unsorted)"
      ],
      "execution_count": null,
      "outputs": [
        {
          "output_type": "stream",
          "text": [
            "[-1.3133651  -0.74940585 -0.58416302 -0.28910285  0.23982418  0.43338709\n",
            "  0.53160691  0.98923027  0.99287786  1.22594613]\n",
            "\n",
            "[ 0.99287786  0.98923027 -0.74940585  1.22594613 -1.3133651  -0.28910285\n",
            "  0.23982418  0.43338709  0.53160691 -0.58416302]\n"
          ],
          "name": "stdout"
        }
      ]
    },
    {
      "cell_type": "code",
      "metadata": {
        "id": "mYKcY_zO3t0n",
        "colab_type": "code",
        "colab": {
          "base_uri": "https://localhost:8080/"
        },
        "outputId": "15e0f519-224b-4d54-934e-e6ec0ab86f91"
      },
      "source": [
        "# inplace sorting\n",
        "unsorted.sort() \n",
        "\n",
        "print(unsorted)"
      ],
      "execution_count": null,
      "outputs": [
        {
          "output_type": "stream",
          "text": [
            "[-1.3133651  -0.74940585 -0.58416302 -0.28910285  0.23982418  0.43338709\n",
            "  0.53160691  0.98923027  0.99287786  1.22594613]\n"
          ],
          "name": "stdout"
        }
      ]
    },
    {
      "cell_type": "markdown",
      "metadata": {
        "id": "Npczr-Re3t0r",
        "colab_type": "text"
      },
      "source": [
        "\n",
        "####Finding Unique elements\n"
      ]
    },
    {
      "cell_type": "code",
      "metadata": {
        "id": "qDnsnVcL3t0s",
        "colab_type": "code",
        "colab": {
          "base_uri": "https://localhost:8080/"
        },
        "outputId": "e211e463-fda2-4c1e-f76b-f11d11012234"
      },
      "source": [
        "array = np.array([1,2,1,4,2,1,4,2])\n",
        "\n",
        "print(np.unique(array))"
      ],
      "execution_count": null,
      "outputs": [
        {
          "output_type": "stream",
          "text": [
            "[1 2 4]\n"
          ],
          "name": "stdout"
        }
      ]
    },
    {
      "cell_type": "markdown",
      "metadata": {
        "id": "eKi03Syn3t0w",
        "colab_type": "text"
      },
      "source": [
        "\n",
        "\n",
        "####Set Operations with np.array data type\n"
      ]
    },
    {
      "cell_type": "code",
      "metadata": {
        "id": "pkOWRWWj3t00",
        "colab_type": "code",
        "colab": {
          "base_uri": "https://localhost:8080/"
        },
        "outputId": "c38b3723-4dee-465c-9e33-da3fa0beaf27"
      },
      "source": [
        "s1 = np.array(['desk','chair','bulb'])\n",
        "s2 = np.array(['lamp','bulb','chair'])\n",
        "print(s1, s2)"
      ],
      "execution_count": null,
      "outputs": [
        {
          "output_type": "stream",
          "text": [
            "['desk' 'chair' 'bulb'] ['lamp' 'bulb' 'chair']\n"
          ],
          "name": "stdout"
        }
      ]
    },
    {
      "cell_type": "code",
      "metadata": {
        "id": "vpo39HPG3t04",
        "colab_type": "code",
        "colab": {
          "base_uri": "https://localhost:8080/"
        },
        "outputId": "52c814a1-3c66-484d-dda9-c080d7d9bfe1"
      },
      "source": [
        "print( np.intersect1d(s1, s2) ) "
      ],
      "execution_count": null,
      "outputs": [
        {
          "output_type": "stream",
          "text": [
            "['bulb' 'chair']\n"
          ],
          "name": "stdout"
        }
      ]
    },
    {
      "cell_type": "code",
      "metadata": {
        "id": "v7uAoYtS3t06",
        "colab_type": "code",
        "colab": {
          "base_uri": "https://localhost:8080/"
        },
        "outputId": "7de60d62-4316-43b4-85ad-85cb7dfa94d6"
      },
      "source": [
        "print( np.union1d(s1, s2) )"
      ],
      "execution_count": null,
      "outputs": [
        {
          "output_type": "stream",
          "text": [
            "['bulb' 'chair' 'desk' 'lamp']\n"
          ],
          "name": "stdout"
        }
      ]
    },
    {
      "cell_type": "code",
      "metadata": {
        "id": "bjueJT5i3t09",
        "colab_type": "code",
        "colab": {
          "base_uri": "https://localhost:8080/"
        },
        "outputId": "c72efe7c-7d85-46fb-a703-686fd3c6d62f"
      },
      "source": [
        "print( np.setdiff1d(s1, s2) )# elements in s1 that are not in s2"
      ],
      "execution_count": null,
      "outputs": [
        {
          "output_type": "stream",
          "text": [
            "['desk']\n"
          ],
          "name": "stdout"
        }
      ]
    },
    {
      "cell_type": "code",
      "metadata": {
        "id": "BvZaWeDY3t1A",
        "colab_type": "code",
        "colab": {
          "base_uri": "https://localhost:8080/"
        },
        "outputId": "f537e6fc-b2e2-49c3-f480-973c69009711"
      },
      "source": [
        "print( np.in1d(s1, s2) )#which element of s1 is also in s2"
      ],
      "execution_count": null,
      "outputs": [
        {
          "output_type": "stream",
          "text": [
            "[False  True  True]\n"
          ],
          "name": "stdout"
        }
      ]
    },
    {
      "cell_type": "markdown",
      "metadata": {
        "id": "IVV-XcNw3t2X",
        "colab_type": "text"
      },
      "source": [
        "\n",
        "\n",
        "####Sum\n"
      ]
    },
    {
      "cell_type": "code",
      "metadata": {
        "id": "9ZlAcvGZ3t2Y",
        "colab_type": "code",
        "colab": {
          "base_uri": "https://localhost:8080/",
          "height": 35
        },
        "outputId": "5317eca7-f095-406c-fc1f-30e5d13cd2c3"
      },
      "source": [
        "# sum elements in the array\n",
        "ex1 = np.array([[11,12],[21,22]])\n",
        "\n",
        "print(np.sum(ex1))          # add all members"
      ],
      "execution_count": null,
      "outputs": [
        {
          "output_type": "stream",
          "text": [
            "66\n"
          ],
          "name": "stdout"
        }
      ]
    },
    {
      "cell_type": "code",
      "metadata": {
        "id": "MwHMtQiB3t2b",
        "colab_type": "code",
        "colab": {
          "base_uri": "https://localhost:8080/",
          "height": 35
        },
        "outputId": "2c479245-53fd-445d-b957-2a5999d509d5"
      },
      "source": [
        "print(np.sum(ex1, axis=0))  # columnwise sum"
      ],
      "execution_count": null,
      "outputs": [
        {
          "output_type": "stream",
          "text": [
            "[32 34]\n"
          ],
          "name": "stdout"
        }
      ]
    },
    {
      "cell_type": "code",
      "metadata": {
        "id": "MZ9sGyEv3t2d",
        "colab_type": "code",
        "colab": {
          "base_uri": "https://localhost:8080/",
          "height": 35
        },
        "outputId": "44e014ee-7658-44be-d351-fc1fbe4814ca"
      },
      "source": [
        "print(np.sum(ex1, axis=1))  # rowwise sum"
      ],
      "execution_count": null,
      "outputs": [
        {
          "output_type": "stream",
          "text": [
            "[23 43]\n"
          ],
          "name": "stdout"
        }
      ]
    },
    {
      "cell_type": "markdown",
      "metadata": {
        "id": "zIYTyOF33t2g",
        "colab_type": "text"
      },
      "source": [
        "####Maximum"
      ]
    },
    {
      "cell_type": "code",
      "metadata": {
        "id": "eFU9uQVI3t2h",
        "colab_type": "code",
        "colab": {
          "base_uri": "https://localhost:8080/"
        },
        "outputId": "c2311e61-abe6-4f34-90af-6bab35614270"
      },
      "source": [
        "# random array\n",
        "x = np.random.randn(8)\n",
        "x"
      ],
      "execution_count": null,
      "outputs": [
        {
          "output_type": "execute_result",
          "data": {
            "text/plain": [
              "array([1.23604467, 0.59192003, 0.13746664, 0.46638537, 1.64235948,\n",
              "       0.55407406, 0.20323489, 0.69623892])"
            ]
          },
          "metadata": {
            "tags": []
          },
          "execution_count": 76
        }
      ]
    },
    {
      "cell_type": "code",
      "metadata": {
        "id": "0VQU4KpC3t2j",
        "colab_type": "code",
        "colab": {
          "base_uri": "https://localhost:8080/"
        },
        "outputId": "8d414df6-298e-4573-e70b-aa2c4e772a5b"
      },
      "source": [
        "# another random array\n",
        "y = np.random.randn(8)\n",
        "y"
      ],
      "execution_count": null,
      "outputs": [
        {
          "output_type": "execute_result",
          "data": {
            "text/plain": [
              "array([-0.71143837,  0.39268122, -0.21348592, -0.24381752, -0.58519335,\n",
              "        1.5970005 ,  0.73675355,  0.75611896])"
            ]
          },
          "metadata": {
            "tags": []
          },
          "execution_count": 77
        }
      ]
    },
    {
      "cell_type": "code",
      "metadata": {
        "id": "Oa9V_ppc3t2n",
        "colab_type": "code",
        "colab": {
          "base_uri": "https://localhost:8080/"
        },
        "outputId": "0c43e026-60a6-441f-8918-b076931405a9"
      },
      "source": [
        "# returns element wise maximum between two arrays\n",
        "\n",
        "np.maximum(x, y)"
      ],
      "execution_count": null,
      "outputs": [
        {
          "output_type": "execute_result",
          "data": {
            "text/plain": [
              "array([1.23604467, 0.59192003, 0.13746664, 0.46638537, 1.64235948,\n",
              "       1.5970005 , 0.73675355, 0.75611896])"
            ]
          },
          "metadata": {
            "tags": []
          },
          "execution_count": 78
        }
      ]
    },
    {
      "cell_type": "markdown",
      "metadata": {
        "id": "qd_SMMXQ3t3L",
        "colab_type": "text"
      },
      "source": [
        "\n",
        "####\"any\" or \"all\" conditionals"
      ]
    },
    {
      "cell_type": "code",
      "metadata": {
        "id": "RjOdPqTr3t3L",
        "colab_type": "code",
        "colab": {}
      },
      "source": [
        "arr_bools = np.array([ True, False, True, True, False ])"
      ],
      "execution_count": null,
      "outputs": []
    },
    {
      "cell_type": "code",
      "metadata": {
        "id": "M7-j6zLd3t3P",
        "colab_type": "code",
        "colab": {
          "base_uri": "https://localhost:8080/",
          "height": 35
        },
        "outputId": "af7cf564-a197-4a0e-bb3c-6a495d7225f6"
      },
      "source": [
        "arr_bools.any()"
      ],
      "execution_count": null,
      "outputs": [
        {
          "output_type": "execute_result",
          "data": {
            "text/plain": [
              "True"
            ]
          },
          "metadata": {
            "tags": []
          },
          "execution_count": 80
        }
      ]
    },
    {
      "cell_type": "code",
      "metadata": {
        "scrolled": true,
        "id": "z6Ye8DP23t3R",
        "colab_type": "code",
        "colab": {
          "base_uri": "https://localhost:8080/",
          "height": 35
        },
        "outputId": "f5d7dbee-468d-4055-c601-79d015052fa8"
      },
      "source": [
        "arr_bools.all()"
      ],
      "execution_count": null,
      "outputs": [
        {
          "output_type": "execute_result",
          "data": {
            "text/plain": [
              "False"
            ]
          },
          "metadata": {
            "tags": []
          },
          "execution_count": 81
        }
      ]
    },
    {
      "cell_type": "markdown",
      "metadata": {
        "id": "prikVuIM3t1C",
        "colab_type": "text"
      },
      "source": [
        "\n",
        "\n",
        "###Broadcasting\n"
      ]
    },
    {
      "cell_type": "markdown",
      "metadata": {
        "id": "ELdgXXLl3t1D",
        "colab_type": "text"
      },
      "source": [
        "Introduction to broadcasting. <br>\n",
        "For more details, please see: <br>\n",
        "https://docs.scipy.org/doc/numpy-1.10.1/user/basics.broadcasting.html"
      ]
    },
    {
      "cell_type": "code",
      "metadata": {
        "id": "yGiwcMTT3t1E",
        "colab_type": "code",
        "colab": {
          "base_uri": "https://localhost:8080/"
        },
        "outputId": "784b6a8c-0e60-40ac-9234-a3b14a4c1eeb"
      },
      "source": [
        "import numpy as np\n",
        "\n",
        "start = np.zeros((4,3))\n",
        "print(start)"
      ],
      "execution_count": null,
      "outputs": [
        {
          "output_type": "stream",
          "text": [
            "[[0. 0. 0.]\n",
            " [0. 0. 0.]\n",
            " [0. 0. 0.]\n",
            " [0. 0. 0.]]\n"
          ],
          "name": "stdout"
        }
      ]
    },
    {
      "cell_type": "code",
      "metadata": {
        "id": "bPzZV4JL3t1I",
        "colab_type": "code",
        "colab": {
          "base_uri": "https://localhost:8080/"
        },
        "outputId": "1533fe23-0ed1-4a9c-e35b-6136c5faf8c1"
      },
      "source": [
        "# create a rank 1 ndarray with 3 values\n",
        "add_rows = np.array([1, 0, 2])\n",
        "print(add_rows)"
      ],
      "execution_count": null,
      "outputs": [
        {
          "output_type": "stream",
          "text": [
            "[1 0 2]\n"
          ],
          "name": "stdout"
        }
      ]
    },
    {
      "cell_type": "code",
      "metadata": {
        "id": "Z3sqTYSn3t1K",
        "colab_type": "code",
        "colab": {
          "base_uri": "https://localhost:8080/"
        },
        "outputId": "f59bc965-f8c0-42b5-abf2-d789b34688b9"
      },
      "source": [
        "y = start + add_rows  # add to each row of 'start' using broadcasting\n",
        "print(y)"
      ],
      "execution_count": null,
      "outputs": [
        {
          "output_type": "stream",
          "text": [
            "[[1. 0. 2.]\n",
            " [1. 0. 2.]\n",
            " [1. 0. 2.]\n",
            " [1. 0. 2.]]\n"
          ],
          "name": "stdout"
        }
      ]
    },
    {
      "cell_type": "code",
      "metadata": {
        "id": "esocbJ103t1N",
        "colab_type": "code",
        "colab": {
          "base_uri": "https://localhost:8080/"
        },
        "outputId": "2f851217-84b4-413e-b31a-fc7966b9b50d"
      },
      "source": [
        "# create an ndarray which is 4 x 1 to broadcast across columns\n",
        "add_cols = np.array([[0,1,2,3]])\n",
        "add_cols = add_cols.T\n",
        "\n",
        "print(add_cols)"
      ],
      "execution_count": null,
      "outputs": [
        {
          "output_type": "stream",
          "text": [
            "[[0]\n",
            " [1]\n",
            " [2]\n",
            " [3]]\n"
          ],
          "name": "stdout"
        }
      ]
    },
    {
      "cell_type": "code",
      "metadata": {
        "id": "SEmpuTs93t1Q",
        "colab_type": "code",
        "colab": {
          "base_uri": "https://localhost:8080/"
        },
        "outputId": "cfa3a8c6-2277-4256-d2da-a54883cf15ec"
      },
      "source": [
        "# add to each column of 'start' using broadcasting\n",
        "y = start + add_cols \n",
        "print(y)"
      ],
      "execution_count": null,
      "outputs": [
        {
          "output_type": "stream",
          "text": [
            "[[0. 0. 0.]\n",
            " [1. 1. 1.]\n",
            " [2. 2. 2.]\n",
            " [3. 3. 3.]]\n"
          ],
          "name": "stdout"
        }
      ]
    },
    {
      "cell_type": "code",
      "metadata": {
        "id": "Z4015CQC3t1S",
        "colab_type": "code",
        "colab": {
          "base_uri": "https://localhost:8080/"
        },
        "outputId": "aa2fb6b3-9ba8-48d7-cc56-d9112d3c4087"
      },
      "source": [
        "# this will just broadcast in both dimensions\n",
        "add_scalar = np.array([1])  \n",
        "print(start+add_scalar)"
      ],
      "execution_count": null,
      "outputs": [
        {
          "output_type": "stream",
          "text": [
            "[[1. 1. 1.]\n",
            " [1. 1. 1.]\n",
            " [1. 1. 1.]\n",
            " [1. 1. 1.]]\n"
          ],
          "name": "stdout"
        }
      ]
    },
    {
      "cell_type": "code",
      "metadata": {
        "id": "qxUOrx0j3t1W",
        "colab_type": "code",
        "colab": {
          "base_uri": "https://localhost:8080/"
        },
        "outputId": "c69df33e-d617-4e7b-a22b-7464e8c3e895"
      },
      "source": [
        "# create our 3x4 matrix\n",
        "arrA = np.array([[1,2,3,4],[5,6,7,8],[9,10,11,12]])\n",
        "print(arrA)"
      ],
      "execution_count": null,
      "outputs": [
        {
          "output_type": "stream",
          "text": [
            "[[ 1  2  3  4]\n",
            " [ 5  6  7  8]\n",
            " [ 9 10 11 12]]\n"
          ],
          "name": "stdout"
        }
      ]
    },
    {
      "cell_type": "code",
      "metadata": {
        "id": "Ya5-rgRp3t1Z",
        "colab_type": "code",
        "colab": {
          "base_uri": "https://localhost:8080/"
        },
        "outputId": "82041a12-67a5-4285-9cba-4b4015178c61"
      },
      "source": [
        "# create our 4x1 array\n",
        "arrB = [0,1,0,2]\n",
        "print(arrB)"
      ],
      "execution_count": null,
      "outputs": [
        {
          "output_type": "stream",
          "text": [
            "[0, 1, 0, 2]\n"
          ],
          "name": "stdout"
        }
      ]
    },
    {
      "cell_type": "code",
      "metadata": {
        "id": "zNc1rdpu3t1c",
        "colab_type": "code",
        "colab": {
          "base_uri": "https://localhost:8080/"
        },
        "outputId": "5479c1ec-2283-449c-c962-d47c00fcc318"
      },
      "source": [
        "# add the two together using broadcasting\n",
        "print(arrA + arrB)"
      ],
      "execution_count": null,
      "outputs": [
        {
          "output_type": "stream",
          "text": [
            "[[ 1  3  3  6]\n",
            " [ 5  7  7 10]\n",
            " [ 9 11 11 14]]\n"
          ],
          "name": "stdout"
        }
      ]
    },
    {
      "cell_type": "markdown",
      "metadata": {
        "id": "trWxXAbA3t1g",
        "colab_type": "text"
      },
      "source": [
        "\n",
        "\n",
        "###Speedtest: ndarrays vs lists\n"
      ]
    },
    {
      "cell_type": "markdown",
      "metadata": {
        "id": "OmhI29zp3t1h",
        "colab_type": "text"
      },
      "source": [
        "First setup paramaters for the speed test. We'll be testing time to sum elements in an ndarray versus a list."
      ]
    },
    {
      "cell_type": "code",
      "metadata": {
        "id": "jMMN1eZO3t1i",
        "colab_type": "code",
        "colab": {}
      },
      "source": [
        "from numpy import arange\n",
        "from timeit import Timer\n",
        "\n",
        "size    = 1000000\n",
        "timeits = 1000"
      ],
      "execution_count": null,
      "outputs": []
    },
    {
      "cell_type": "code",
      "metadata": {
        "id": "9ISAAntx3t1k",
        "colab_type": "code",
        "colab": {
          "base_uri": "https://localhost:8080/",
          "height": 35
        },
        "outputId": "af829f8c-df8f-473d-ac3f-0d460d10d602"
      },
      "source": [
        "# create the ndarray with values 0,1,2...,size-1\n",
        "nd_array = arange(size)\n",
        "print( type(nd_array) )"
      ],
      "execution_count": null,
      "outputs": [
        {
          "output_type": "stream",
          "text": [
            "<class 'numpy.ndarray'>\n"
          ],
          "name": "stdout"
        }
      ]
    },
    {
      "cell_type": "code",
      "metadata": {
        "id": "huJA28Ky3t1n",
        "colab_type": "code",
        "colab": {
          "base_uri": "https://localhost:8080/",
          "height": 35
        },
        "outputId": "23917405-8c4f-4842-8674-d06e15d1da99"
      },
      "source": [
        "# timer expects the operation as a parameter, \n",
        "# here we pass nd_array.sum()\n",
        "timer_numpy = Timer(\"nd_array.sum()\", \"from __main__ import nd_array\")\n",
        "\n",
        "print(\"Time taken by numpy ndarray: %f seconds\" % \n",
        "      (timer_numpy.timeit(timeits)/timeits))"
      ],
      "execution_count": null,
      "outputs": [
        {
          "output_type": "stream",
          "text": [
            "Time taken by numpy ndarray: 0.000745 seconds\n"
          ],
          "name": "stdout"
        }
      ]
    },
    {
      "cell_type": "code",
      "metadata": {
        "id": "NfEHcmb33t1q",
        "colab_type": "code",
        "colab": {
          "base_uri": "https://localhost:8080/",
          "height": 35
        },
        "outputId": "0a808532-fb5b-402e-c8d8-6af900346d6d"
      },
      "source": [
        "# create the list with values 0,1,2...,size-1\n",
        "a_list = list(range(size))\n",
        "print (type(a_list) )"
      ],
      "execution_count": null,
      "outputs": [
        {
          "output_type": "stream",
          "text": [
            "<class 'list'>\n"
          ],
          "name": "stdout"
        }
      ]
    },
    {
      "cell_type": "code",
      "metadata": {
        "id": "r-co2BR53t1v",
        "colab_type": "code",
        "colab": {
          "base_uri": "https://localhost:8080/",
          "height": 35
        },
        "outputId": "0283c222-cf6e-46fa-ec0d-171f007bd433"
      },
      "source": [
        "# timer expects the operation as a parameter, here we pass sum(a_list)\n",
        "timer_list = Timer(\"sum(a_list)\", \"from __main__ import a_list\")\n",
        "\n",
        "print(\"Time taken by list:  %f seconds\" % \n",
        "      (timer_list.timeit(timeits)/timeits))"
      ],
      "execution_count": null,
      "outputs": [
        {
          "output_type": "stream",
          "text": [
            "Time taken by list:  0.005958 seconds\n"
          ],
          "name": "stdout"
        }
      ]
    },
    {
      "cell_type": "markdown",
      "metadata": {
        "id": "YXdZUYOM3t1y",
        "colab_type": "text"
      },
      "source": [
        "###Read or Write to Disk\n"
      ]
    },
    {
      "cell_type": "markdown",
      "metadata": {
        "id": "-si6M4Pz3t1z",
        "colab_type": "text"
      },
      "source": [
        "<p style=\"font-family: Arial; font-size:1.3em;color:#2462C0; font-style:bold\"><br>\n",
        "\n",
        "Binary Format:</p>"
      ]
    },
    {
      "cell_type": "code",
      "metadata": {
        "id": "NOQeeUJi3t10",
        "colab_type": "code",
        "colab": {}
      },
      "source": [
        "x = np.array([ 23.23, 24.24] )"
      ],
      "execution_count": null,
      "outputs": []
    },
    {
      "cell_type": "code",
      "metadata": {
        "id": "luLi5Q_t3t15",
        "colab_type": "code",
        "colab": {}
      },
      "source": [
        "np.save('an_array', x)"
      ],
      "execution_count": null,
      "outputs": []
    },
    {
      "cell_type": "code",
      "metadata": {
        "id": "O38dBpYS3t17",
        "colab_type": "code",
        "colab": {
          "base_uri": "https://localhost:8080/",
          "height": 35
        },
        "outputId": "60133267-e66a-4f29-8834-27520c4d095c"
      },
      "source": [
        "np.load('an_array.npy')"
      ],
      "execution_count": null,
      "outputs": [
        {
          "output_type": "execute_result",
          "data": {
            "text/plain": [
              "array([23.23, 24.24])"
            ]
          },
          "metadata": {
            "tags": []
          },
          "execution_count": 98
        }
      ]
    },
    {
      "cell_type": "markdown",
      "metadata": {
        "id": "3mfXtBcm3t1-",
        "colab_type": "text"
      },
      "source": [
        "<p style=\"font-family: Arial; font-size:1.3em;color:#2462C0; font-style:bold\"><br>\n",
        "\n",
        "Text Format:</p>"
      ]
    },
    {
      "cell_type": "code",
      "metadata": {
        "id": "6Pjy4G5V3t1_",
        "colab_type": "code",
        "colab": {}
      },
      "source": [
        "np.savetxt('array.txt', X=x, delimiter=',')"
      ],
      "execution_count": null,
      "outputs": []
    },
    {
      "cell_type": "code",
      "metadata": {
        "id": "XYIisZiA3t2B",
        "colab_type": "code",
        "colab": {
          "base_uri": "https://localhost:8080/",
          "height": 54
        },
        "outputId": "f25a7991-ecbe-4c61-9069-021370cbb6a6"
      },
      "source": [
        "!cat array.txt"
      ],
      "execution_count": null,
      "outputs": [
        {
          "output_type": "stream",
          "text": [
            "2.323000000000000043e+01\n",
            "2.423999999999999844e+01\n"
          ],
          "name": "stdout"
        }
      ]
    },
    {
      "cell_type": "code",
      "metadata": {
        "scrolled": true,
        "id": "HsxL46Ji3t2E",
        "colab_type": "code",
        "colab": {
          "base_uri": "https://localhost:8080/",
          "height": 35
        },
        "outputId": "c76829a7-7015-4dfa-feab-6ff5ecf8a994"
      },
      "source": [
        "np.loadtxt('array.txt', delimiter=',')"
      ],
      "execution_count": null,
      "outputs": [
        {
          "output_type": "execute_result",
          "data": {
            "text/plain": [
              "array([23.23, 24.24])"
            ]
          },
          "metadata": {
            "tags": []
          },
          "execution_count": 101
        }
      ]
    },
    {
      "cell_type": "markdown",
      "metadata": {
        "id": "CqAFqjOwruS0",
        "colab_type": "text"
      },
      "source": [
        "###Matrices and Vector Operations"
      ]
    },
    {
      "cell_type": "markdown",
      "metadata": {
        "id": "5Eq5Nu0d3t2L",
        "colab_type": "text"
      },
      "source": [
        "\n",
        "####Dot Product on Matrices and Inner Product on Vectors\n"
      ]
    },
    {
      "cell_type": "code",
      "metadata": {
        "id": "ylYRTLxK3t2M",
        "colab_type": "code",
        "colab": {
          "base_uri": "https://localhost:8080/",
          "height": 109
        },
        "outputId": "480efa90-5e23-4c12-d775-ed29decf1798"
      },
      "source": [
        "# determine the dot product of two matrices\n",
        "x2d = np.array([[1,1],[1,1]])\n",
        "y2d = np.array([[2,2],[2,2]])\n",
        "\n",
        "print(x2d.dot(y2d))\n",
        "print()\n",
        "print(np.dot(x2d, y2d))"
      ],
      "execution_count": null,
      "outputs": [
        {
          "output_type": "stream",
          "text": [
            "[[4 4]\n",
            " [4 4]]\n",
            "\n",
            "[[4 4]\n",
            " [4 4]]\n"
          ],
          "name": "stdout"
        }
      ]
    },
    {
      "cell_type": "code",
      "metadata": {
        "id": "F9rmnWLe3t2O",
        "colab_type": "code",
        "colab": {
          "base_uri": "https://localhost:8080/",
          "height": 72
        },
        "outputId": "efe59b61-3599-4262-b076-586f34340647"
      },
      "source": [
        "# determine the inner product of two vectors\n",
        "a1d = np.array([9 , 9 ])\n",
        "b1d = np.array([10, 10])\n",
        "\n",
        "print(a1d.dot(b1d))\n",
        "print()\n",
        "print(np.dot(a1d, b1d))"
      ],
      "execution_count": null,
      "outputs": [
        {
          "output_type": "stream",
          "text": [
            "180\n",
            "\n",
            "180\n"
          ],
          "name": "stdout"
        }
      ]
    },
    {
      "cell_type": "code",
      "metadata": {
        "id": "2GqMpiJj3t2R",
        "colab_type": "code",
        "colab": {
          "base_uri": "https://localhost:8080/",
          "height": 72
        },
        "outputId": "0b6bb026-1ca9-4a85-b1f0-9ca2e33a263e"
      },
      "source": [
        "# dot produce on an array and vector\n",
        "print(x2d.dot(a1d))\n",
        "print()\n",
        "print(np.dot(x2d, a1d))"
      ],
      "execution_count": null,
      "outputs": [
        {
          "output_type": "stream",
          "text": [
            "[18 18]\n",
            "\n",
            "[18 18]\n"
          ],
          "name": "stdout"
        }
      ]
    },
    {
      "cell_type": "markdown",
      "metadata": {
        "id": "LiExi2PS3t2p",
        "colab_type": "text"
      },
      "source": [
        "\n",
        "####Reshaping array\n"
      ]
    },
    {
      "cell_type": "code",
      "metadata": {
        "id": "5uNbf6zO3t2q",
        "colab_type": "code",
        "colab": {
          "base_uri": "https://localhost:8080/"
        },
        "outputId": "89aa8c76-6b51-4b0a-9a49-57eb8b51293e"
      },
      "source": [
        "# grab values from 0 through 19 in an array\n",
        "arr = np.arange(20)\n",
        "print(arr)"
      ],
      "execution_count": null,
      "outputs": [
        {
          "output_type": "stream",
          "text": [
            "[ 0  1  2  3  4  5  6  7  8  9 10 11 12 13 14 15 16 17 18 19]\n"
          ],
          "name": "stdout"
        }
      ]
    },
    {
      "cell_type": "code",
      "metadata": {
        "id": "5RQFhep83t2t",
        "colab_type": "code",
        "colab": {
          "base_uri": "https://localhost:8080/"
        },
        "outputId": "a46c34f1-67fc-497d-d99e-34a4dbc0eb63"
      },
      "source": [
        "# reshape to be a 4 x 5 matrix\n",
        "arr.reshape(4,5)"
      ],
      "execution_count": null,
      "outputs": [
        {
          "output_type": "execute_result",
          "data": {
            "text/plain": [
              "array([[ 0,  1,  2,  3,  4],\n",
              "       [ 5,  6,  7,  8,  9],\n",
              "       [10, 11, 12, 13, 14],\n",
              "       [15, 16, 17, 18, 19]])"
            ]
          },
          "metadata": {
            "tags": []
          },
          "execution_count": 106
        }
      ]
    },
    {
      "cell_type": "markdown",
      "metadata": {
        "id": "loN_pwu03t2v",
        "colab_type": "text"
      },
      "source": [
        "\n",
        "\n",
        "####Transpose\n",
        "\n"
      ]
    },
    {
      "cell_type": "code",
      "metadata": {
        "id": "yuECL2Um3t2w",
        "colab_type": "code",
        "colab": {
          "base_uri": "https://localhost:8080/"
        },
        "outputId": "c04f0540-8c97-4c35-a103-d4cb5793965d"
      },
      "source": [
        "# transpose\n",
        "ex1 = np.array([[11,12],[21,22]])\n",
        "\n",
        "ex1.T"
      ],
      "execution_count": null,
      "outputs": [
        {
          "output_type": "execute_result",
          "data": {
            "text/plain": [
              "array([[11, 21],\n",
              "       [12, 22]])"
            ]
          },
          "metadata": {
            "tags": []
          },
          "execution_count": 107
        }
      ]
    },
    {
      "cell_type": "markdown",
      "metadata": {
        "id": "dRLUx05d3t3T",
        "colab_type": "text"
      },
      "source": [
        "\n",
        "\n",
        "###Random Number Generation\n"
      ]
    },
    {
      "cell_type": "code",
      "metadata": {
        "id": "8npnscBx3t3V",
        "colab_type": "code",
        "colab": {
          "base_uri": "https://localhost:8080/",
          "height": 35
        },
        "outputId": "99b2dbcb-2f4f-453f-8334-da3457a965e5"
      },
      "source": [
        "Y = np.random.normal(size = (1,5))[0]\n",
        "print(Y)"
      ],
      "execution_count": null,
      "outputs": [
        {
          "output_type": "stream",
          "text": [
            "[ 0.79585411 -0.89181813 -0.27987359  0.46435853 -0.69040903]\n"
          ],
          "name": "stdout"
        }
      ]
    },
    {
      "cell_type": "code",
      "metadata": {
        "id": "e-tSVhm-3t3W",
        "colab_type": "code",
        "colab": {
          "base_uri": "https://localhost:8080/",
          "height": 35
        },
        "outputId": "18b5f3d0-6032-4b00-ca4b-727868ef7f1a"
      },
      "source": [
        "Z = np.random.randint(low=2,high=50,size=4)\n",
        "print(Z)"
      ],
      "execution_count": null,
      "outputs": [
        {
          "output_type": "stream",
          "text": [
            "[ 9 39 10 31]\n"
          ],
          "name": "stdout"
        }
      ]
    },
    {
      "cell_type": "code",
      "metadata": {
        "id": "iJITQFXE3t3Z",
        "colab_type": "code",
        "colab": {
          "base_uri": "https://localhost:8080/",
          "height": 35
        },
        "outputId": "6b3f1aa0-ea08-40f2-abf2-64b6fe730fb1"
      },
      "source": [
        "np.random.permutation(Z) #return a new ordering of elements in Z"
      ],
      "execution_count": null,
      "outputs": [
        {
          "output_type": "execute_result",
          "data": {
            "text/plain": [
              "array([10,  9, 31, 39])"
            ]
          },
          "metadata": {
            "tags": []
          },
          "execution_count": 110
        }
      ]
    },
    {
      "cell_type": "code",
      "metadata": {
        "id": "HniYE50e3t3b",
        "colab_type": "code",
        "colab": {
          "base_uri": "https://localhost:8080/",
          "height": 35
        },
        "outputId": "e803f097-9d8e-47d4-97f3-01810d2b55c0"
      },
      "source": [
        "np.random.uniform(size=4) #uniform distribution"
      ],
      "execution_count": null,
      "outputs": [
        {
          "output_type": "execute_result",
          "data": {
            "text/plain": [
              "array([0.81790128, 0.01368871, 0.87578733, 0.92413588])"
            ]
          },
          "metadata": {
            "tags": []
          },
          "execution_count": 111
        }
      ]
    },
    {
      "cell_type": "code",
      "metadata": {
        "id": "ZvRNhSTy3t3f",
        "colab_type": "code",
        "colab": {
          "base_uri": "https://localhost:8080/",
          "height": 35
        },
        "outputId": "45e61bb7-d30c-443f-da2f-75064e8e0526"
      },
      "source": [
        "np.random.normal(size=4) #normal distribution"
      ],
      "execution_count": null,
      "outputs": [
        {
          "output_type": "execute_result",
          "data": {
            "text/plain": [
              "array([ 1.01739934, -0.58591665,  0.03628285,  0.55105386])"
            ]
          },
          "metadata": {
            "tags": []
          },
          "execution_count": 112
        }
      ]
    },
    {
      "cell_type": "markdown",
      "metadata": {
        "id": "_6wX4-Ql3t3h",
        "colab_type": "text"
      },
      "source": [
        "\n",
        "\n",
        "###Merging data sets\n"
      ]
    },
    {
      "cell_type": "code",
      "metadata": {
        "id": "5xTjy1SS3t3i",
        "colab_type": "code",
        "colab": {
          "base_uri": "https://localhost:8080/"
        },
        "outputId": "4760ee14-eb37-4d01-ede0-79bc9be43f93"
      },
      "source": [
        "K = np.random.randint(low=2,high=50,size=(2,2))\n",
        "print(K)\n",
        "\n",
        "print()\n",
        "M = np.random.randint(low=2,high=50,size=(2,2))\n",
        "print(M)"
      ],
      "execution_count": null,
      "outputs": [
        {
          "output_type": "stream",
          "text": [
            "[[36 19]\n",
            " [25 40]]\n",
            "\n",
            "[[35  5]\n",
            " [40 10]]\n"
          ],
          "name": "stdout"
        }
      ]
    },
    {
      "cell_type": "code",
      "metadata": {
        "id": "noG4xwAi3t3l",
        "colab_type": "code",
        "colab": {
          "base_uri": "https://localhost:8080/"
        },
        "outputId": "3c8f24b3-26a1-4ede-d721-c60a3d42d26b"
      },
      "source": [
        "np.vstack((K,M))"
      ],
      "execution_count": null,
      "outputs": [
        {
          "output_type": "execute_result",
          "data": {
            "text/plain": [
              "array([[36, 19],\n",
              "       [25, 40],\n",
              "       [35,  5],\n",
              "       [40, 10]])"
            ]
          },
          "metadata": {
            "tags": []
          },
          "execution_count": 114
        }
      ]
    },
    {
      "cell_type": "code",
      "metadata": {
        "id": "RRbzwVza3t3m",
        "colab_type": "code",
        "colab": {
          "base_uri": "https://localhost:8080/"
        },
        "outputId": "c739e4ee-1643-45e1-a025-9e19d3780b6e"
      },
      "source": [
        "np.hstack((K,M))"
      ],
      "execution_count": null,
      "outputs": [
        {
          "output_type": "execute_result",
          "data": {
            "text/plain": [
              "array([[36, 19, 35,  5],\n",
              "       [25, 40, 40, 10]])"
            ]
          },
          "metadata": {
            "tags": []
          },
          "execution_count": 115
        }
      ]
    },
    {
      "cell_type": "code",
      "metadata": {
        "id": "PDtc4dxr3t3p",
        "colab_type": "code",
        "colab": {
          "base_uri": "https://localhost:8080/"
        },
        "outputId": "e457c63e-25df-46d9-fb60-a9f67109e00d"
      },
      "source": [
        "np.concatenate([K, M], axis = 0)"
      ],
      "execution_count": null,
      "outputs": [
        {
          "output_type": "execute_result",
          "data": {
            "text/plain": [
              "array([[36, 19],\n",
              "       [25, 40],\n",
              "       [35,  5],\n",
              "       [40, 10]])"
            ]
          },
          "metadata": {
            "tags": []
          },
          "execution_count": 116
        }
      ]
    },
    {
      "cell_type": "code",
      "metadata": {
        "id": "rNotEaEZ3t3r",
        "colab_type": "code",
        "colab": {
          "base_uri": "https://localhost:8080/"
        },
        "outputId": "2ff1547e-6da5-41da-c6f0-6587947faab5"
      },
      "source": [
        "np.concatenate([K, M.T], axis = 1)"
      ],
      "execution_count": null,
      "outputs": [
        {
          "output_type": "execute_result",
          "data": {
            "text/plain": [
              "array([[36, 19, 35, 40],\n",
              "       [25, 40,  5, 10]])"
            ]
          },
          "metadata": {
            "tags": []
          },
          "execution_count": 117
        }
      ]
    },
    {
      "cell_type": "markdown",
      "metadata": {
        "id": "RRQOvTAc3t3t",
        "colab_type": "text"
      },
      "source": [
        "## Exploring a dataset in the Notebook"
      ]
    },
    {
      "cell_type": "markdown",
      "metadata": {
        "id": "VjYEP89m3t3u",
        "colab_type": "text"
      },
      "source": [
        "### Provenance of the data"
      ]
    },
    {
      "cell_type": "markdown",
      "metadata": {
        "id": "JKHT3FzC3t3v",
        "colab_type": "text"
      },
      "source": [
        "### Downloading and loading a dataset"
      ]
    },
    {
      "cell_type": "code",
      "metadata": {
        "id": "06epFX9t3t3v",
        "colab_type": "code",
        "colab": {}
      },
      "source": [
        "import numpy as np\n",
        "import pandas as pd\n",
        "import matplotlib.pyplot as plt\n",
        "%matplotlib inline"
      ],
      "execution_count": null,
      "outputs": []
    },
    {
      "cell_type": "code",
      "metadata": {
        "id": "QsYKpPba3t30",
        "colab_type": "code",
        "colab": {
          "base_uri": "https://localhost:8080/",
          "height": 293
        },
        "outputId": "5e1b5732-53e1-4657-f94b-13f702575cee"
      },
      "source": [
        "!wget https://raw.githubusercontent.com/ipython-books/minibook-2nd-data/master/nyc_taxi.zip\n",
        "!unzip nyc_taxi.zip"
      ],
      "execution_count": null,
      "outputs": [
        {
          "output_type": "stream",
          "text": [
            "--2020-02-29 15:26:07--  https://raw.githubusercontent.com/ipython-books/minibook-2nd-data/master/nyc_taxi.zip\n",
            "Resolving raw.githubusercontent.com (raw.githubusercontent.com)... 151.101.0.133, 151.101.64.133, 151.101.128.133, ...\n",
            "Connecting to raw.githubusercontent.com (raw.githubusercontent.com)|151.101.0.133|:443... connected.\n",
            "HTTP request sent, awaiting response... 200 OK\n",
            "Length: 91078102 (87M) [application/zip]\n",
            "Saving to: ‘nyc_taxi.zip’\n",
            "\n",
            "nyc_taxi.zip        100%[===================>]  86.86M   188MB/s    in 0.5s    \n",
            "\n",
            "2020-02-29 15:26:13 (188 MB/s) - ‘nyc_taxi.zip’ saved [91078102/91078102]\n",
            "\n",
            "Archive:  nyc_taxi.zip\n",
            "   creating: data/\n",
            "  inflating: data/nyc_data.csv       \n",
            "  inflating: data/nyc_fare.csv       \n"
          ],
          "name": "stdout"
        }
      ]
    },
    {
      "cell_type": "code",
      "metadata": {
        "id": "YJ7qDrzU3t32",
        "colab_type": "code",
        "colab": {
          "base_uri": "https://localhost:8080/",
          "height": 35
        },
        "outputId": "9a4069bb-b2b5-414a-b240-d96fd7658e66"
      },
      "source": [
        "%ls data"
      ],
      "execution_count": null,
      "outputs": [
        {
          "output_type": "stream",
          "text": [
            "\u001b[0m\u001b[01;32mnyc_data.csv\u001b[0m*  \u001b[01;32mnyc_fare.csv\u001b[0m*\n"
          ],
          "name": "stdout"
        }
      ]
    },
    {
      "cell_type": "code",
      "metadata": {
        "id": "LcgvynFh3t35",
        "colab_type": "code",
        "colab": {}
      },
      "source": [
        "data_filename = 'data/nyc_data.csv'\n",
        "fare_filename = 'data/nyc_fare.csv'"
      ],
      "execution_count": null,
      "outputs": []
    },
    {
      "cell_type": "code",
      "metadata": {
        "id": "RfggKG5X3t37",
        "colab_type": "code",
        "colab": {}
      },
      "source": [
        "data = pd.read_csv(data_filename, parse_dates=['pickup_datetime',\n",
        "                                               'dropoff_datetime'])\n",
        "fare = pd.read_csv(fare_filename, parse_dates=['pickup_datetime'])"
      ],
      "execution_count": null,
      "outputs": []
    },
    {
      "cell_type": "code",
      "metadata": {
        "id": "v1ap7-ZK3t3-",
        "colab_type": "code",
        "colab": {
          "base_uri": "https://localhost:8080/",
          "height": 216
        },
        "outputId": "bb283732-565d-4ccd-9a09-18820875d913"
      },
      "source": [
        "data.head(3)"
      ],
      "execution_count": null,
      "outputs": [
        {
          "output_type": "execute_result",
          "data": {
            "text/html": [
              "<div>\n",
              "<style scoped>\n",
              "    .dataframe tbody tr th:only-of-type {\n",
              "        vertical-align: middle;\n",
              "    }\n",
              "\n",
              "    .dataframe tbody tr th {\n",
              "        vertical-align: top;\n",
              "    }\n",
              "\n",
              "    .dataframe thead th {\n",
              "        text-align: right;\n",
              "    }\n",
              "</style>\n",
              "<table border=\"1\" class=\"dataframe\">\n",
              "  <thead>\n",
              "    <tr style=\"text-align: right;\">\n",
              "      <th></th>\n",
              "      <th>medallion</th>\n",
              "      <th>hack_license</th>\n",
              "      <th>vendor_id</th>\n",
              "      <th>rate_code</th>\n",
              "      <th>store_and_fwd_flag</th>\n",
              "      <th>pickup_datetime</th>\n",
              "      <th>dropoff_datetime</th>\n",
              "      <th>passenger_count</th>\n",
              "      <th>trip_time_in_secs</th>\n",
              "      <th>trip_distance</th>\n",
              "      <th>pickup_longitude</th>\n",
              "      <th>pickup_latitude</th>\n",
              "      <th>dropoff_longitude</th>\n",
              "      <th>dropoff_latitude</th>\n",
              "    </tr>\n",
              "  </thead>\n",
              "  <tbody>\n",
              "    <tr>\n",
              "      <th>0</th>\n",
              "      <td>76942C3205E17D7E7FE5A9F709D16434</td>\n",
              "      <td>25BA06A87905667AA1FE5990E33F0E2E</td>\n",
              "      <td>VTS</td>\n",
              "      <td>1</td>\n",
              "      <td>NaN</td>\n",
              "      <td>2013-01-01 00:00:00</td>\n",
              "      <td>2013-01-01 00:05:00</td>\n",
              "      <td>3</td>\n",
              "      <td>300</td>\n",
              "      <td>0.61</td>\n",
              "      <td>-73.955925</td>\n",
              "      <td>40.781887</td>\n",
              "      <td>-73.963181</td>\n",
              "      <td>40.777832</td>\n",
              "    </tr>\n",
              "    <tr>\n",
              "      <th>1</th>\n",
              "      <td>517C6B330DBB3F055D007B07512628B3</td>\n",
              "      <td>2C19FBEE1A6E05612EFE4C958C14BC7F</td>\n",
              "      <td>VTS</td>\n",
              "      <td>1</td>\n",
              "      <td>NaN</td>\n",
              "      <td>2013-01-01 00:05:00</td>\n",
              "      <td>2013-01-01 00:21:00</td>\n",
              "      <td>1</td>\n",
              "      <td>960</td>\n",
              "      <td>3.28</td>\n",
              "      <td>-74.005501</td>\n",
              "      <td>40.745735</td>\n",
              "      <td>-73.964943</td>\n",
              "      <td>40.755722</td>\n",
              "    </tr>\n",
              "    <tr>\n",
              "      <th>2</th>\n",
              "      <td>ED15611F168E41B33619C83D900FE266</td>\n",
              "      <td>754AEBD7C80DA17BA1D81D89FB6F4D1D</td>\n",
              "      <td>CMT</td>\n",
              "      <td>1</td>\n",
              "      <td>N</td>\n",
              "      <td>2013-01-01 00:05:52</td>\n",
              "      <td>2013-01-01 00:12:18</td>\n",
              "      <td>1</td>\n",
              "      <td>386</td>\n",
              "      <td>1.50</td>\n",
              "      <td>-73.969955</td>\n",
              "      <td>40.799770</td>\n",
              "      <td>-73.954567</td>\n",
              "      <td>40.787392</td>\n",
              "    </tr>\n",
              "  </tbody>\n",
              "</table>\n",
              "</div>"
            ],
            "text/plain": [
              "                          medallion  ... dropoff_latitude\n",
              "0  76942C3205E17D7E7FE5A9F709D16434  ...        40.777832\n",
              "1  517C6B330DBB3F055D007B07512628B3  ...        40.755722\n",
              "2  ED15611F168E41B33619C83D900FE266  ...        40.787392\n",
              "\n",
              "[3 rows x 14 columns]"
            ]
          },
          "metadata": {
            "tags": []
          },
          "execution_count": 123
        }
      ]
    },
    {
      "cell_type": "markdown",
      "metadata": {
        "id": "wqvQYOKV3t4A",
        "colab_type": "text"
      },
      "source": [
        "### Making plots with matplotlib"
      ]
    },
    {
      "cell_type": "code",
      "metadata": {
        "id": "tkGVQBhU3t4A",
        "colab_type": "code",
        "colab": {
          "base_uri": "https://localhost:8080/",
          "height": 127
        },
        "outputId": "1dc63c2e-3490-4446-e24b-0154e27e8986"
      },
      "source": [
        "data.columns"
      ],
      "execution_count": null,
      "outputs": [
        {
          "output_type": "execute_result",
          "data": {
            "text/plain": [
              "Index(['medallion', 'hack_license', 'vendor_id', 'rate_code',\n",
              "       'store_and_fwd_flag', 'pickup_datetime', 'dropoff_datetime',\n",
              "       'passenger_count', 'trip_time_in_secs', 'trip_distance',\n",
              "       'pickup_longitude', 'pickup_latitude', 'dropoff_longitude',\n",
              "       'dropoff_latitude'],\n",
              "      dtype='object')"
            ]
          },
          "metadata": {
            "tags": []
          },
          "execution_count": 124
        }
      ]
    },
    {
      "cell_type": "code",
      "metadata": {
        "id": "ffqIkABT3t4D",
        "colab_type": "code",
        "colab": {}
      },
      "source": [
        "p_lng = data.pickup_longitude\n",
        "p_lat = data.pickup_latitude\n",
        "d_lng = data.dropoff_longitude\n",
        "d_lat = data.dropoff_latitude"
      ],
      "execution_count": null,
      "outputs": []
    },
    {
      "cell_type": "code",
      "metadata": {
        "id": "dVDvlcPL3t4I",
        "colab_type": "code",
        "colab": {
          "base_uri": "https://localhost:8080/",
          "height": 237
        },
        "outputId": "77d24619-0e0b-4eba-8f23-b06f61ee8380"
      },
      "source": [
        "p_lng"
      ],
      "execution_count": null,
      "outputs": [
        {
          "output_type": "execute_result",
          "data": {
            "text/plain": [
              "0        -73.955925\n",
              "1        -74.005501\n",
              "2        -73.969955\n",
              "3        -73.991432\n",
              "4        -73.966225\n",
              "            ...    \n",
              "846940   -73.992058\n",
              "846941   -73.994949\n",
              "846942   -73.993492\n",
              "846943   -73.978477\n",
              "846944   -73.987206\n",
              "Name: pickup_longitude, Length: 846945, dtype: float64"
            ]
          },
          "metadata": {
            "tags": []
          },
          "execution_count": 126
        }
      ]
    },
    {
      "cell_type": "code",
      "metadata": {
        "id": "mway93TG3t4N",
        "colab_type": "code",
        "colab": {}
      },
      "source": [
        "def lat_lng_to_pixels(lat, lng):\n",
        "    lat_rad = lat * np.pi / 180.0\n",
        "    lat_rad = np.log(np.tan((lat_rad + np.pi / 2.0) / 2.0))\n",
        "    x = 100 * (lng + 180.0) / 360.0\n",
        "    y = 100 * (lat_rad - np.pi) / (2.0 * np.pi)\n",
        "    return (x, y)"
      ],
      "execution_count": null,
      "outputs": []
    },
    {
      "cell_type": "code",
      "metadata": {
        "id": "b8rAy1Aj3t4P",
        "colab_type": "code",
        "colab": {}
      },
      "source": [
        "px, py = lat_lng_to_pixels(p_lat, p_lng)"
      ],
      "execution_count": null,
      "outputs": []
    },
    {
      "cell_type": "code",
      "metadata": {
        "id": "kO9Aaag-3t4R",
        "colab_type": "code",
        "colab": {
          "base_uri": "https://localhost:8080/",
          "height": 237
        },
        "outputId": "bb0359c7-d8b9-4024-9e06-05a0571ef1a3"
      },
      "source": [
        "px"
      ],
      "execution_count": null,
      "outputs": [
        {
          "output_type": "execute_result",
          "data": {
            "text/plain": [
              "0         29.456688\n",
              "1         29.442916\n",
              "2         29.452790\n",
              "3         29.446824\n",
              "4         29.453826\n",
              "            ...    \n",
              "846940    29.446651\n",
              "846941    29.445847\n",
              "846942    29.446252\n",
              "846943    29.450423\n",
              "846944    29.447998\n",
              "Name: pickup_longitude, Length: 846945, dtype: float64"
            ]
          },
          "metadata": {
            "tags": []
          },
          "execution_count": 129
        }
      ]
    },
    {
      "cell_type": "code",
      "metadata": {
        "id": "7oiuRzfi3t4U",
        "colab_type": "code",
        "colab": {
          "base_uri": "https://localhost:8080/",
          "height": 283
        },
        "outputId": "4aa30b68-609e-45b0-cbb2-4da967856e2d"
      },
      "source": [
        "plt.scatter(px, py)"
      ],
      "execution_count": null,
      "outputs": [
        {
          "output_type": "execute_result",
          "data": {
            "text/plain": [
              "<matplotlib.collections.PathCollection at 0x7f4ebbfe1eb8>"
            ]
          },
          "metadata": {
            "tags": []
          },
          "execution_count": 130
        },
        {
          "output_type": "display_data",
          "data": {
            "image/png": "[encoded data removed]",
            "text/plain": [
              "<Figure size 432x288 with 1 Axes>"
            ]
          },
          "metadata": {
            "tags": []
          }
        }
      ]
    },
    {
      "cell_type": "code",
      "metadata": {
        "id": "cjwKAr1S3t4W",
        "colab_type": "code",
        "colab": {
          "base_uri": "https://localhost:8080/",
          "height": 375
        },
        "outputId": "0da2d95b-87fa-43a2-b84e-38f1f9bf20d7"
      },
      "source": [
        "plt.figure(figsize=(8, 6))\n",
        "plt.scatter(px, py, s=.1, alpha=0.03)\n",
        "plt.axis('equal')\n",
        "plt.xlim(29.40, 29.55)\n",
        "plt.ylim(-37.63, -37.54)\n",
        "plt.axis('off')"
      ],
      "execution_count": null,
      "outputs": [
        {
          "output_type": "execute_result",
          "data": {
            "text/plain": [
              "(29.4, 29.55, -37.63, -37.54)"
            ]
          },
          "metadata": {
            "tags": []
          },
          "execution_count": 154
        },
        {
          "output_type": "display_data",
          "data": {
            "image/png": "[encoded data removed]",
            "text/plain": [
              "<Figure size 576x432 with 1 Axes>"
            ]
          },
          "metadata": {
            "tags": []
          }
        }
      ]
    },
    {
      "cell_type": "markdown",
      "metadata": {
        "id": "PDE2RB3o3t4Z",
        "colab_type": "text"
      },
      "source": [
        "### Descriptive statistics with pandas and seaborn"
      ]
    },
    {
      "cell_type": "code",
      "metadata": {
        "id": "wl3hQm9I3t4Z",
        "colab_type": "code",
        "colab": {
          "base_uri": "https://localhost:8080/",
          "height": 35
        },
        "outputId": "cb47358b-a05e-4dac-e143-685f92fb93d9"
      },
      "source": [
        "px.count(), px.min(), px.max()"
      ],
      "execution_count": null,
      "outputs": [
        {
          "output_type": "execute_result",
          "data": {
            "text/plain": [
              "(846945, 29.417137499999995, 29.71431305555556)"
            ]
          },
          "metadata": {
            "tags": []
          },
          "execution_count": 132
        }
      ]
    },
    {
      "cell_type": "code",
      "metadata": {
        "id": "xArFS8me3t4c",
        "colab_type": "code",
        "colab": {
          "base_uri": "https://localhost:8080/",
          "height": 35
        },
        "outputId": "1bc724dd-16ea-4644-fbd3-733fcf0d5fb8"
      },
      "source": [
        "px.mean(), px.median(), px.std()"
      ],
      "execution_count": null,
      "outputs": [
        {
          "output_type": "execute_result",
          "data": {
            "text/plain": [
              "(29.45134580776863, 29.449418333333337, 0.009761694274451149)"
            ]
          },
          "metadata": {
            "tags": []
          },
          "execution_count": 133
        }
      ]
    },
    {
      "cell_type": "code",
      "metadata": {
        "id": "TmQwuKzA3t4i",
        "colab_type": "code",
        "colab": {
          "base_uri": "https://localhost:8080/",
          "height": 35
        },
        "outputId": "e99fe062-28ce-4f8b-cd4f-29fafd2d4ff7"
      },
      "source": [
        "import seaborn as sns\n",
        "sns.__version__"
      ],
      "execution_count": null,
      "outputs": [
        {
          "output_type": "execute_result",
          "data": {
            "text/plain": [
              "'0.10.0'"
            ]
          },
          "metadata": {
            "tags": []
          },
          "execution_count": 134
        }
      ]
    },
    {
      "cell_type": "code",
      "metadata": {
        "id": "ryoL7l9O3t4k",
        "colab_type": "code",
        "colab": {
          "base_uri": "https://localhost:8080/",
          "height": 284
        },
        "outputId": "75735ad6-d84f-4c82-d456-59cf679201f5"
      },
      "source": [
        "data.trip_distance.hist(bins=np.linspace(0., 10., 100))"
      ],
      "execution_count": null,
      "outputs": [
        {
          "output_type": "execute_result",
          "data": {
            "text/plain": [
              "<matplotlib.axes._subplots.AxesSubplot at 0x7f4ebc59e9e8>"
            ]
          },
          "metadata": {
            "tags": []
          },
          "execution_count": 135
        },
        {
          "output_type": "display_data",
          "data": {
            "image/png": "[encoded data removed]",
            "text/plain": [
              "<Figure size 432x288 with 1 Axes>"
            ]
          },
          "metadata": {
            "tags": []
          }
        }
      ]
    },
    {
      "cell_type": "markdown",
      "metadata": {
        "id": "4pjYdjyd3t4n",
        "colab_type": "text"
      },
      "source": [
        "## Manipulating data"
      ]
    },
    {
      "cell_type": "code",
      "metadata": {
        "id": "Qh8zi0jc3t4o",
        "colab_type": "code",
        "colab": {}
      },
      "source": [
        "import numpy as np\n",
        "import pandas as pd\n",
        "import matplotlib.pyplot as plt\n",
        "%matplotlib inline\n",
        "data = pd.read_csv('data/nyc_data.csv', parse_dates=['pickup_datetime',\n",
        "                                                     'dropoff_datetime'])\n",
        "fare = pd.read_csv('data/nyc_fare.csv', parse_dates=['pickup_datetime'])"
      ],
      "execution_count": null,
      "outputs": []
    },
    {
      "cell_type": "markdown",
      "metadata": {
        "id": "Aj4W7pxw3t4r",
        "colab_type": "text"
      },
      "source": [
        "### Selecting data"
      ]
    },
    {
      "cell_type": "code",
      "metadata": {
        "id": "XlUG8ne53t4r",
        "colab_type": "code",
        "colab": {
          "base_uri": "https://localhost:8080/",
          "height": 143
        },
        "outputId": "74ed3243-dc16-4718-cc56-a1bd080087f9"
      },
      "source": [
        "data[['trip_distance', 'trip_time_in_secs']].head(3)"
      ],
      "execution_count": null,
      "outputs": [
        {
          "output_type": "execute_result",
          "data": {
            "text/html": [
              "<div>\n",
              "<style scoped>\n",
              "    .dataframe tbody tr th:only-of-type {\n",
              "        vertical-align: middle;\n",
              "    }\n",
              "\n",
              "    .dataframe tbody tr th {\n",
              "        vertical-align: top;\n",
              "    }\n",
              "\n",
              "    .dataframe thead th {\n",
              "        text-align: right;\n",
              "    }\n",
              "</style>\n",
              "<table border=\"1\" class=\"dataframe\">\n",
              "  <thead>\n",
              "    <tr style=\"text-align: right;\">\n",
              "      <th></th>\n",
              "      <th>trip_distance</th>\n",
              "      <th>trip_time_in_secs</th>\n",
              "    </tr>\n",
              "  </thead>\n",
              "  <tbody>\n",
              "    <tr>\n",
              "      <th>0</th>\n",
              "      <td>0.61</td>\n",
              "      <td>300</td>\n",
              "    </tr>\n",
              "    <tr>\n",
              "      <th>1</th>\n",
              "      <td>3.28</td>\n",
              "      <td>960</td>\n",
              "    </tr>\n",
              "    <tr>\n",
              "      <th>2</th>\n",
              "      <td>1.50</td>\n",
              "      <td>386</td>\n",
              "    </tr>\n",
              "  </tbody>\n",
              "</table>\n",
              "</div>"
            ],
            "text/plain": [
              "   trip_distance  trip_time_in_secs\n",
              "0           0.61                300\n",
              "1           3.28                960\n",
              "2           1.50                386"
            ]
          },
          "metadata": {
            "tags": []
          },
          "execution_count": 137
        }
      ]
    },
    {
      "cell_type": "code",
      "metadata": {
        "id": "aty8zLnt3t4u",
        "colab_type": "code",
        "colab": {
          "base_uri": "https://localhost:8080/",
          "height": 293
        },
        "outputId": "6efdf3dc-0c1b-46ef-a039-93a0118bf417"
      },
      "source": [
        "data.loc[0]"
      ],
      "execution_count": null,
      "outputs": [
        {
          "output_type": "execute_result",
          "data": {
            "text/plain": [
              "medallion             76942C3205E17D7E7FE5A9F709D16434\n",
              "hack_license          25BA06A87905667AA1FE5990E33F0E2E\n",
              "vendor_id                                          VTS\n",
              "rate_code                                            1\n",
              "store_and_fwd_flag                                 NaN\n",
              "pickup_datetime                    2013-01-01 00:00:00\n",
              "dropoff_datetime                   2013-01-01 00:05:00\n",
              "passenger_count                                      3\n",
              "trip_time_in_secs                                  300\n",
              "trip_distance                                     0.61\n",
              "pickup_longitude                              -73.9559\n",
              "pickup_latitude                                40.7819\n",
              "dropoff_longitude                             -73.9632\n",
              "dropoff_latitude                               40.7778\n",
              "Name: 0, dtype: object"
            ]
          },
          "metadata": {
            "tags": []
          },
          "execution_count": 138
        }
      ]
    },
    {
      "cell_type": "code",
      "metadata": {
        "id": "13H6XfRX3t4x",
        "colab_type": "code",
        "colab": {
          "base_uri": "https://localhost:8080/",
          "height": 167
        },
        "outputId": "3d7a2b6d-365d-4383-b916-27a7edd4692e"
      },
      "source": [
        "data.loc[[0, 100000]]"
      ],
      "execution_count": null,
      "outputs": [
        {
          "output_type": "execute_result",
          "data": {
            "text/html": [
              "<div>\n",
              "<style scoped>\n",
              "    .dataframe tbody tr th:only-of-type {\n",
              "        vertical-align: middle;\n",
              "    }\n",
              "\n",
              "    .dataframe tbody tr th {\n",
              "        vertical-align: top;\n",
              "    }\n",
              "\n",
              "    .dataframe thead th {\n",
              "        text-align: right;\n",
              "    }\n",
              "</style>\n",
              "<table border=\"1\" class=\"dataframe\">\n",
              "  <thead>\n",
              "    <tr style=\"text-align: right;\">\n",
              "      <th></th>\n",
              "      <th>medallion</th>\n",
              "      <th>hack_license</th>\n",
              "      <th>vendor_id</th>\n",
              "      <th>rate_code</th>\n",
              "      <th>store_and_fwd_flag</th>\n",
              "      <th>pickup_datetime</th>\n",
              "      <th>dropoff_datetime</th>\n",
              "      <th>passenger_count</th>\n",
              "      <th>trip_time_in_secs</th>\n",
              "      <th>trip_distance</th>\n",
              "      <th>pickup_longitude</th>\n",
              "      <th>pickup_latitude</th>\n",
              "      <th>dropoff_longitude</th>\n",
              "      <th>dropoff_latitude</th>\n",
              "    </tr>\n",
              "  </thead>\n",
              "  <tbody>\n",
              "    <tr>\n",
              "      <th>0</th>\n",
              "      <td>76942C3205E17D7E7FE5A9F709D16434</td>\n",
              "      <td>25BA06A87905667AA1FE5990E33F0E2E</td>\n",
              "      <td>VTS</td>\n",
              "      <td>1</td>\n",
              "      <td>NaN</td>\n",
              "      <td>2013-01-01 00:00:00</td>\n",
              "      <td>2013-01-01 00:05:00</td>\n",
              "      <td>3</td>\n",
              "      <td>300</td>\n",
              "      <td>0.61</td>\n",
              "      <td>-73.955925</td>\n",
              "      <td>40.781887</td>\n",
              "      <td>-73.963181</td>\n",
              "      <td>40.777832</td>\n",
              "    </tr>\n",
              "    <tr>\n",
              "      <th>100000</th>\n",
              "      <td>7461F7106D33D3A5775F4245724606FD</td>\n",
              "      <td>BACEA353BB4106A005BB7836BDCAC0C3</td>\n",
              "      <td>VTS</td>\n",
              "      <td>1</td>\n",
              "      <td>NaN</td>\n",
              "      <td>2013-02-12 18:10:00</td>\n",
              "      <td>2013-02-12 18:20:00</td>\n",
              "      <td>2</td>\n",
              "      <td>600</td>\n",
              "      <td>2.02</td>\n",
              "      <td>-73.966454</td>\n",
              "      <td>40.770512</td>\n",
              "      <td>-73.958862</td>\n",
              "      <td>40.778042</td>\n",
              "    </tr>\n",
              "  </tbody>\n",
              "</table>\n",
              "</div>"
            ],
            "text/plain": [
              "                               medallion  ... dropoff_latitude\n",
              "0       76942C3205E17D7E7FE5A9F709D16434  ...        40.777832\n",
              "100000  7461F7106D33D3A5775F4245724606FD  ...        40.778042\n",
              "\n",
              "[2 rows x 14 columns]"
            ]
          },
          "metadata": {
            "tags": []
          },
          "execution_count": 139
        }
      ]
    },
    {
      "cell_type": "code",
      "metadata": {
        "id": "6SeX3_m-3t4z",
        "colab_type": "code",
        "colab": {
          "base_uri": "https://localhost:8080/",
          "height": 424
        },
        "outputId": "2c41d9f1-1d1f-4a87-a6ca-b353fc83410d"
      },
      "source": [
        "data.loc[1000:2000:10,\n",
        "         ['trip_distance', 'trip_time_in_secs']]"
      ],
      "execution_count": null,
      "outputs": [
        {
          "output_type": "execute_result",
          "data": {
            "text/html": [
              "<div>\n",
              "<style scoped>\n",
              "    .dataframe tbody tr th:only-of-type {\n",
              "        vertical-align: middle;\n",
              "    }\n",
              "\n",
              "    .dataframe tbody tr th {\n",
              "        vertical-align: top;\n",
              "    }\n",
              "\n",
              "    .dataframe thead th {\n",
              "        text-align: right;\n",
              "    }\n",
              "</style>\n",
              "<table border=\"1\" class=\"dataframe\">\n",
              "  <thead>\n",
              "    <tr style=\"text-align: right;\">\n",
              "      <th></th>\n",
              "      <th>trip_distance</th>\n",
              "      <th>trip_time_in_secs</th>\n",
              "    </tr>\n",
              "  </thead>\n",
              "  <tbody>\n",
              "    <tr>\n",
              "      <th>1000</th>\n",
              "      <td>1.00</td>\n",
              "      <td>441</td>\n",
              "    </tr>\n",
              "    <tr>\n",
              "      <th>1010</th>\n",
              "      <td>3.80</td>\n",
              "      <td>691</td>\n",
              "    </tr>\n",
              "    <tr>\n",
              "      <th>1020</th>\n",
              "      <td>0.00</td>\n",
              "      <td>7</td>\n",
              "    </tr>\n",
              "    <tr>\n",
              "      <th>1030</th>\n",
              "      <td>4.20</td>\n",
              "      <td>902</td>\n",
              "    </tr>\n",
              "    <tr>\n",
              "      <th>1040</th>\n",
              "      <td>3.40</td>\n",
              "      <td>1278</td>\n",
              "    </tr>\n",
              "    <tr>\n",
              "      <th>...</th>\n",
              "      <td>...</td>\n",
              "      <td>...</td>\n",
              "    </tr>\n",
              "    <tr>\n",
              "      <th>1960</th>\n",
              "      <td>7.70</td>\n",
              "      <td>883</td>\n",
              "    </tr>\n",
              "    <tr>\n",
              "      <th>1970</th>\n",
              "      <td>2.71</td>\n",
              "      <td>660</td>\n",
              "    </tr>\n",
              "    <tr>\n",
              "      <th>1980</th>\n",
              "      <td>2.30</td>\n",
              "      <td>360</td>\n",
              "    </tr>\n",
              "    <tr>\n",
              "      <th>1990</th>\n",
              "      <td>0.13</td>\n",
              "      <td>60</td>\n",
              "    </tr>\n",
              "    <tr>\n",
              "      <th>2000</th>\n",
              "      <td>9.60</td>\n",
              "      <td>963</td>\n",
              "    </tr>\n",
              "  </tbody>\n",
              "</table>\n",
              "<p>101 rows × 2 columns</p>\n",
              "</div>"
            ],
            "text/plain": [
              "      trip_distance  trip_time_in_secs\n",
              "1000           1.00                441\n",
              "1010           3.80                691\n",
              "1020           0.00                  7\n",
              "1030           4.20                902\n",
              "1040           3.40               1278\n",
              "...             ...                ...\n",
              "1960           7.70                883\n",
              "1970           2.71                660\n",
              "1980           2.30                360\n",
              "1990           0.13                 60\n",
              "2000           9.60                963\n",
              "\n",
              "[101 rows x 2 columns]"
            ]
          },
          "metadata": {
            "tags": []
          },
          "execution_count": 140
        }
      ]
    },
    {
      "cell_type": "code",
      "metadata": {
        "id": "q06Tj4jt3t41",
        "colab_type": "code",
        "colab": {
          "base_uri": "https://localhost:8080/",
          "height": 1000
        },
        "outputId": "ba397fb5-279e-48aa-8f01-b124b64c3503"
      },
      "source": [
        "data.loc[data.trip_distance>50]"
      ],
      "execution_count": null,
      "outputs": [
        {
          "output_type": "execute_result",
          "data": {
            "text/html": [
              "<div>\n",
              "<style scoped>\n",
              "    .dataframe tbody tr th:only-of-type {\n",
              "        vertical-align: middle;\n",
              "    }\n",
              "\n",
              "    .dataframe tbody tr th {\n",
              "        vertical-align: top;\n",
              "    }\n",
              "\n",
              "    .dataframe thead th {\n",
              "        text-align: right;\n",
              "    }\n",
              "</style>\n",
              "<table border=\"1\" class=\"dataframe\">\n",
              "  <thead>\n",
              "    <tr style=\"text-align: right;\">\n",
              "      <th></th>\n",
              "      <th>medallion</th>\n",
              "      <th>hack_license</th>\n",
              "      <th>vendor_id</th>\n",
              "      <th>rate_code</th>\n",
              "      <th>store_and_fwd_flag</th>\n",
              "      <th>pickup_datetime</th>\n",
              "      <th>dropoff_datetime</th>\n",
              "      <th>passenger_count</th>\n",
              "      <th>trip_time_in_secs</th>\n",
              "      <th>trip_distance</th>\n",
              "      <th>pickup_longitude</th>\n",
              "      <th>pickup_latitude</th>\n",
              "      <th>dropoff_longitude</th>\n",
              "      <th>dropoff_latitude</th>\n",
              "    </tr>\n",
              "  </thead>\n",
              "  <tbody>\n",
              "    <tr>\n",
              "      <th>1853</th>\n",
              "      <td>DA2A0A9EBD9AFD25013CF83805B61D6D</td>\n",
              "      <td>A3BCE60F48302B63C4B7AAE443960704</td>\n",
              "      <td>CMT</td>\n",
              "      <td>1</td>\n",
              "      <td>N</td>\n",
              "      <td>2013-01-01 21:41:03</td>\n",
              "      <td>2013-01-01 21:56:37</td>\n",
              "      <td>1</td>\n",
              "      <td>934</td>\n",
              "      <td>52.20</td>\n",
              "      <td>-73.979576</td>\n",
              "      <td>40.743626</td>\n",
              "      <td>-73.941902</td>\n",
              "      <td>40.807281</td>\n",
              "    </tr>\n",
              "    <tr>\n",
              "      <th>6316</th>\n",
              "      <td>6BD1B641A1CD55803A21560299B985A7</td>\n",
              "      <td>A33DB5A909ADBFCE2AB057264141C8E9</td>\n",
              "      <td>CMT</td>\n",
              "      <td>1</td>\n",
              "      <td>N</td>\n",
              "      <td>2013-01-04 06:44:21</td>\n",
              "      <td>2013-01-04 07:17:14</td>\n",
              "      <td>1</td>\n",
              "      <td>1973</td>\n",
              "      <td>96.30</td>\n",
              "      <td>-73.959785</td>\n",
              "      <td>40.762497</td>\n",
              "      <td>-73.962440</td>\n",
              "      <td>40.662910</td>\n",
              "    </tr>\n",
              "    <tr>\n",
              "      <th>8683</th>\n",
              "      <td>E95D27A43DC7A5F0C015409386BB49DB</td>\n",
              "      <td>8A6EB7FA7E6A3F4A50C717871C068D72</td>\n",
              "      <td>CMT</td>\n",
              "      <td>1</td>\n",
              "      <td>N</td>\n",
              "      <td>2013-01-05 01:51:08</td>\n",
              "      <td>2013-01-05 02:23:01</td>\n",
              "      <td>1</td>\n",
              "      <td>1913</td>\n",
              "      <td>52.90</td>\n",
              "      <td>-74.006119</td>\n",
              "      <td>40.735157</td>\n",
              "      <td>-73.958694</td>\n",
              "      <td>40.714905</td>\n",
              "    </tr>\n",
              "    <tr>\n",
              "      <th>24381</th>\n",
              "      <td>A38882246FC6439948FA470459F94134</td>\n",
              "      <td>8A60E3668580091A4BB124E9BDAFDD89</td>\n",
              "      <td>CMT</td>\n",
              "      <td>1</td>\n",
              "      <td>N</td>\n",
              "      <td>2013-01-12 03:02:55</td>\n",
              "      <td>2013-01-12 03:24:47</td>\n",
              "      <td>1</td>\n",
              "      <td>1312</td>\n",
              "      <td>66.20</td>\n",
              "      <td>-73.966873</td>\n",
              "      <td>40.683315</td>\n",
              "      <td>-73.916885</td>\n",
              "      <td>40.754852</td>\n",
              "    </tr>\n",
              "    <tr>\n",
              "      <th>54723</th>\n",
              "      <td>0F48C5AE255A294B4E88ECC3CED0CFC5</td>\n",
              "      <td>C92D893B061C29C152ADF42B15317C3E</td>\n",
              "      <td>CMT</td>\n",
              "      <td>5</td>\n",
              "      <td>N</td>\n",
              "      <td>2013-01-24 21:07:13</td>\n",
              "      <td>2013-01-24 21:31:44</td>\n",
              "      <td>1</td>\n",
              "      <td>1471</td>\n",
              "      <td>79.40</td>\n",
              "      <td>-73.885735</td>\n",
              "      <td>40.771580</td>\n",
              "      <td>-73.984947</td>\n",
              "      <td>40.758060</td>\n",
              "    </tr>\n",
              "    <tr>\n",
              "      <th>90068</th>\n",
              "      <td>7B59F6023736C5217B613D17B4ED6A9C</td>\n",
              "      <td>F2D89276E3886C6A8D27AE463637FF36</td>\n",
              "      <td>CMT</td>\n",
              "      <td>1</td>\n",
              "      <td>N</td>\n",
              "      <td>2013-02-08 01:54:21</td>\n",
              "      <td>2013-02-08 02:02:03</td>\n",
              "      <td>1</td>\n",
              "      <td>461</td>\n",
              "      <td>70.90</td>\n",
              "      <td>-73.985512</td>\n",
              "      <td>40.742313</td>\n",
              "      <td>-73.993950</td>\n",
              "      <td>40.720837</td>\n",
              "    </tr>\n",
              "    <tr>\n",
              "      <th>115471</th>\n",
              "      <td>FB0FAE6EABFE14F45600AD382B52EFE5</td>\n",
              "      <td>0D39DD3359634605EAC8B451295E8186</td>\n",
              "      <td>CMT</td>\n",
              "      <td>1</td>\n",
              "      <td>N</td>\n",
              "      <td>2013-02-18 19:52:08</td>\n",
              "      <td>2013-02-18 20:07:33</td>\n",
              "      <td>1</td>\n",
              "      <td>925</td>\n",
              "      <td>67.20</td>\n",
              "      <td>-73.874474</td>\n",
              "      <td>40.773975</td>\n",
              "      <td>-73.937866</td>\n",
              "      <td>40.723824</td>\n",
              "    </tr>\n",
              "    <tr>\n",
              "      <th>119002</th>\n",
              "      <td>A51E7B7371667690E65D88307FBBA229</td>\n",
              "      <td>3A6EDD62A2933A11545527FDE55DAC52</td>\n",
              "      <td>CMT</td>\n",
              "      <td>1</td>\n",
              "      <td>N</td>\n",
              "      <td>2013-02-20 12:20:03</td>\n",
              "      <td>2013-02-20 12:43:12</td>\n",
              "      <td>1</td>\n",
              "      <td>1389</td>\n",
              "      <td>87.90</td>\n",
              "      <td>-73.862915</td>\n",
              "      <td>40.769157</td>\n",
              "      <td>-73.973579</td>\n",
              "      <td>40.748199</td>\n",
              "    </tr>\n",
              "    <tr>\n",
              "      <th>134839</th>\n",
              "      <td>FA189EABBB4058AC0359AA1CF30F5313</td>\n",
              "      <td>C707B5A8C6AEF269564272AF66B37564</td>\n",
              "      <td>CMT</td>\n",
              "      <td>1</td>\n",
              "      <td>Y</td>\n",
              "      <td>2013-02-26 17:54:11</td>\n",
              "      <td>2013-02-26 18:45:03</td>\n",
              "      <td>1</td>\n",
              "      <td>3052</td>\n",
              "      <td>69.80</td>\n",
              "      <td>-73.989853</td>\n",
              "      <td>40.729340</td>\n",
              "      <td>-73.964035</td>\n",
              "      <td>40.771950</td>\n",
              "    </tr>\n",
              "    <tr>\n",
              "      <th>157050</th>\n",
              "      <td>C4580AE98B332B1E4B6B822B1C2D03BE</td>\n",
              "      <td>E2CB66B7D37105F7C3364DFF61E4D487</td>\n",
              "      <td>VTS</td>\n",
              "      <td>2</td>\n",
              "      <td>NaN</td>\n",
              "      <td>2013-03-07 12:34:00</td>\n",
              "      <td>2013-03-07 15:24:00</td>\n",
              "      <td>6</td>\n",
              "      <td>10200</td>\n",
              "      <td>60.14</td>\n",
              "      <td>-73.777405</td>\n",
              "      <td>40.646626</td>\n",
              "      <td>-73.982193</td>\n",
              "      <td>40.769535</td>\n",
              "    </tr>\n",
              "    <tr>\n",
              "      <th>201876</th>\n",
              "      <td>DBCD64B365502F85569B4A264B798AAE</td>\n",
              "      <td>D404427B22B187FE0460668FDEC9937E</td>\n",
              "      <td>CMT</td>\n",
              "      <td>1</td>\n",
              "      <td>N</td>\n",
              "      <td>2013-03-25 09:30:28</td>\n",
              "      <td>2013-03-25 10:07:32</td>\n",
              "      <td>2</td>\n",
              "      <td>2224</td>\n",
              "      <td>61.00</td>\n",
              "      <td>-73.988136</td>\n",
              "      <td>40.749702</td>\n",
              "      <td>-73.887688</td>\n",
              "      <td>40.859402</td>\n",
              "    </tr>\n",
              "    <tr>\n",
              "      <th>210667</th>\n",
              "      <td>BD4738379B8C2E8168F48CFFDE2F94E6</td>\n",
              "      <td>E6F2B8515FE5A32AACF884FBA21F0170</td>\n",
              "      <td>CMT</td>\n",
              "      <td>1</td>\n",
              "      <td>N</td>\n",
              "      <td>2013-03-28 23:25:31</td>\n",
              "      <td>2013-03-28 23:36:47</td>\n",
              "      <td>1</td>\n",
              "      <td>675</td>\n",
              "      <td>52.50</td>\n",
              "      <td>-73.979370</td>\n",
              "      <td>40.766933</td>\n",
              "      <td>-73.992043</td>\n",
              "      <td>40.759903</td>\n",
              "    </tr>\n",
              "    <tr>\n",
              "      <th>238505</th>\n",
              "      <td>4ADDFBA1E3FD055AB4854D003976F263</td>\n",
              "      <td>2B09130C92CF5199315044DFE89D6356</td>\n",
              "      <td>CMT</td>\n",
              "      <td>1</td>\n",
              "      <td>N</td>\n",
              "      <td>2013-04-09 15:10:48</td>\n",
              "      <td>2013-04-09 15:19:54</td>\n",
              "      <td>1</td>\n",
              "      <td>545</td>\n",
              "      <td>85.30</td>\n",
              "      <td>-73.979851</td>\n",
              "      <td>40.764091</td>\n",
              "      <td>-73.982155</td>\n",
              "      <td>40.777206</td>\n",
              "    </tr>\n",
              "    <tr>\n",
              "      <th>305690</th>\n",
              "      <td>A895384C359AABDA144AF574989DA1C3</td>\n",
              "      <td>CEEB6BCC5E4705A32043BCA2DBA78E3E</td>\n",
              "      <td>CMT</td>\n",
              "      <td>1</td>\n",
              "      <td>N</td>\n",
              "      <td>2013-05-06 12:35:03</td>\n",
              "      <td>2013-05-06 12:45:28</td>\n",
              "      <td>1</td>\n",
              "      <td>623</td>\n",
              "      <td>50.50</td>\n",
              "      <td>-73.978287</td>\n",
              "      <td>40.773117</td>\n",
              "      <td>-73.978287</td>\n",
              "      <td>40.773117</td>\n",
              "    </tr>\n",
              "    <tr>\n",
              "      <th>450941</th>\n",
              "      <td>849397BEC809E0CBF9FF645FE7FD96A8</td>\n",
              "      <td>BC7E6894AF102A345E3D050121FAA1F2</td>\n",
              "      <td>CMT</td>\n",
              "      <td>1</td>\n",
              "      <td>N</td>\n",
              "      <td>2013-07-09 13:51:02</td>\n",
              "      <td>2013-07-09 14:13:53</td>\n",
              "      <td>4</td>\n",
              "      <td>1371</td>\n",
              "      <td>88.00</td>\n",
              "      <td>-73.987518</td>\n",
              "      <td>40.747070</td>\n",
              "      <td>-73.870758</td>\n",
              "      <td>40.772087</td>\n",
              "    </tr>\n",
              "    <tr>\n",
              "      <th>504497</th>\n",
              "      <td>7237EC7ABD6114EDDC87A3AA846F8418</td>\n",
              "      <td>D52502537E2DF62C9BFFECF5A387E7E9</td>\n",
              "      <td>CMT</td>\n",
              "      <td>1</td>\n",
              "      <td>N</td>\n",
              "      <td>2013-08-02 11:22:31</td>\n",
              "      <td>2013-08-02 11:33:03</td>\n",
              "      <td>1</td>\n",
              "      <td>631</td>\n",
              "      <td>6005123.00</td>\n",
              "      <td>-73.997467</td>\n",
              "      <td>40.736397</td>\n",
              "      <td>-73.991882</td>\n",
              "      <td>40.764629</td>\n",
              "    </tr>\n",
              "    <tr>\n",
              "      <th>507107</th>\n",
              "      <td>50DA72F510E2F84A42712E13744FAC7B</td>\n",
              "      <td>EA9D03A766C1D32A6668FFF0C1EB4E4B</td>\n",
              "      <td>CMT</td>\n",
              "      <td>1</td>\n",
              "      <td>N</td>\n",
              "      <td>2013-08-04 18:42:17</td>\n",
              "      <td>2013-08-04 20:37:19</td>\n",
              "      <td>3</td>\n",
              "      <td>4290965</td>\n",
              "      <td>181.80</td>\n",
              "      <td>-73.978020</td>\n",
              "      <td>40.765167</td>\n",
              "      <td>-73.815041</td>\n",
              "      <td>40.730076</td>\n",
              "    </tr>\n",
              "    <tr>\n",
              "      <th>520570</th>\n",
              "      <td>68FADA2827FA3A1AB0FF32EC47F565EB</td>\n",
              "      <td>1E68C0830B73658C43635CAD45ECFDFA</td>\n",
              "      <td>CMT</td>\n",
              "      <td>0</td>\n",
              "      <td>N</td>\n",
              "      <td>2013-08-10 23:27:49</td>\n",
              "      <td>2013-08-10 23:27:49</td>\n",
              "      <td>1</td>\n",
              "      <td>0</td>\n",
              "      <td>57.70</td>\n",
              "      <td>-73.956726</td>\n",
              "      <td>40.767033</td>\n",
              "      <td>-73.956726</td>\n",
              "      <td>40.767033</td>\n",
              "    </tr>\n",
              "    <tr>\n",
              "      <th>548988</th>\n",
              "      <td>A978A0AAE9B2CFEE310FACD97A09C319</td>\n",
              "      <td>CE56A27F53ABF411094B6CD708BFBA96</td>\n",
              "      <td>CMT</td>\n",
              "      <td>1</td>\n",
              "      <td>N</td>\n",
              "      <td>2013-08-24 17:03:27</td>\n",
              "      <td>2013-08-24 17:03:29</td>\n",
              "      <td>1</td>\n",
              "      <td>1</td>\n",
              "      <td>442.00</td>\n",
              "      <td>-73.993896</td>\n",
              "      <td>40.702644</td>\n",
              "      <td>-73.993874</td>\n",
              "      <td>40.702637</td>\n",
              "    </tr>\n",
              "    <tr>\n",
              "      <th>558665</th>\n",
              "      <td>5A5C516A820FE476E9D3E14101B669AC</td>\n",
              "      <td>C24585AA866FC76A4E09A05F55DC7E54</td>\n",
              "      <td>CMT</td>\n",
              "      <td>2</td>\n",
              "      <td>N</td>\n",
              "      <td>2013-08-29 10:01:40</td>\n",
              "      <td>2013-08-29 11:52:20</td>\n",
              "      <td>1</td>\n",
              "      <td>6640</td>\n",
              "      <td>164.40</td>\n",
              "      <td>-73.791534</td>\n",
              "      <td>40.661026</td>\n",
              "      <td>-73.983734</td>\n",
              "      <td>40.765778</td>\n",
              "    </tr>\n",
              "    <tr>\n",
              "      <th>659208</th>\n",
              "      <td>E8E54922CFDFC480893C1E2021506CD4</td>\n",
              "      <td>BCCAFB9AB09496225A0FE39096FD72C0</td>\n",
              "      <td>VTS</td>\n",
              "      <td>1</td>\n",
              "      <td>NaN</td>\n",
              "      <td>2013-10-11 14:43:00</td>\n",
              "      <td>2013-10-11 16:27:00</td>\n",
              "      <td>1</td>\n",
              "      <td>6240</td>\n",
              "      <td>55.80</td>\n",
              "      <td>-73.776817</td>\n",
              "      <td>40.645065</td>\n",
              "      <td>-73.806770</td>\n",
              "      <td>40.659180</td>\n",
              "    </tr>\n",
              "    <tr>\n",
              "      <th>672612</th>\n",
              "      <td>9B14258B0E3EF13923996FB8537B2EA0</td>\n",
              "      <td>42834D2C6C221FDA7CDAE3AC95A981D3</td>\n",
              "      <td>VTS</td>\n",
              "      <td>2</td>\n",
              "      <td>NaN</td>\n",
              "      <td>2013-10-17 11:44:00</td>\n",
              "      <td>2013-10-17 13:58:00</td>\n",
              "      <td>5</td>\n",
              "      <td>8040</td>\n",
              "      <td>52.00</td>\n",
              "      <td>-73.790825</td>\n",
              "      <td>40.662148</td>\n",
              "      <td>-73.983200</td>\n",
              "      <td>40.745365</td>\n",
              "    </tr>\n",
              "  </tbody>\n",
              "</table>\n",
              "</div>"
            ],
            "text/plain": [
              "                               medallion  ... dropoff_latitude\n",
              "1853    DA2A0A9EBD9AFD25013CF83805B61D6D  ...        40.807281\n",
              "6316    6BD1B641A1CD55803A21560299B985A7  ...        40.662910\n",
              "8683    E95D27A43DC7A5F0C015409386BB49DB  ...        40.714905\n",
              "24381   A38882246FC6439948FA470459F94134  ...        40.754852\n",
              "54723   0F48C5AE255A294B4E88ECC3CED0CFC5  ...        40.758060\n",
              "90068   7B59F6023736C5217B613D17B4ED6A9C  ...        40.720837\n",
              "115471  FB0FAE6EABFE14F45600AD382B52EFE5  ...        40.723824\n",
              "119002  A51E7B7371667690E65D88307FBBA229  ...        40.748199\n",
              "134839  FA189EABBB4058AC0359AA1CF30F5313  ...        40.771950\n",
              "157050  C4580AE98B332B1E4B6B822B1C2D03BE  ...        40.769535\n",
              "201876  DBCD64B365502F85569B4A264B798AAE  ...        40.859402\n",
              "210667  BD4738379B8C2E8168F48CFFDE2F94E6  ...        40.759903\n",
              "238505  4ADDFBA1E3FD055AB4854D003976F263  ...        40.777206\n",
              "305690  A895384C359AABDA144AF574989DA1C3  ...        40.773117\n",
              "450941  849397BEC809E0CBF9FF645FE7FD96A8  ...        40.772087\n",
              "504497  7237EC7ABD6114EDDC87A3AA846F8418  ...        40.764629\n",
              "507107  50DA72F510E2F84A42712E13744FAC7B  ...        40.730076\n",
              "520570  68FADA2827FA3A1AB0FF32EC47F565EB  ...        40.767033\n",
              "548988  A978A0AAE9B2CFEE310FACD97A09C319  ...        40.702637\n",
              "558665  5A5C516A820FE476E9D3E14101B669AC  ...        40.765778\n",
              "659208  E8E54922CFDFC480893C1E2021506CD4  ...        40.659180\n",
              "672612  9B14258B0E3EF13923996FB8537B2EA0  ...        40.745365\n",
              "\n",
              "[22 rows x 14 columns]"
            ]
          },
          "metadata": {
            "tags": []
          },
          "execution_count": 141
        }
      ]
    },
    {
      "cell_type": "code",
      "metadata": {
        "id": "RxQn-LC83t43",
        "colab_type": "code",
        "colab": {}
      },
      "source": [
        "from ipywidgets import interact"
      ],
      "execution_count": null,
      "outputs": []
    },
    {
      "cell_type": "code",
      "metadata": {
        "id": "o3KohVkA3t45",
        "colab_type": "code",
        "colab": {
          "base_uri": "https://localhost:8080/",
          "height": 67,
          "referenced_widgets": [
            "7da7b46bc9f64ade85580a502ebef1ac",
            "faf6aa3cff1b47c88ea7d66c6092bfd7",
            "9feba29f6c8e4e0887432e475f92ef55",
            "4c6311e461654a85abc3ba3b3779f81d",
            "855f72f825ee453e940232005494167e",
            "b64c6320b9f5446682435c09e887a6b8",
            "ecb41599b9f641e690ab3ab5b69d4ae8"
          ]
        },
        "outputId": "67ed06f4-efa2-4fe5-a72a-57087875ff7f"
      },
      "source": [
        "@interact\n",
        "def show_nrows(distance_threshold=(0, 200)):\n",
        "    return len(data.loc[data.trip_distance > distance_threshold])"
      ],
      "execution_count": null,
      "outputs": [
        {
          "output_type": "display_data",
          "data": {
            "application/vnd.jupyter.widget-view+json": {
              "model_id": "7da7b46bc9f64ade85580a502ebef1ac",
              "version_minor": 0,
              "version_major": 2
            },
            "text/plain": [
              "interactive(children=(IntSlider(value=100, description='distance_threshold', max=200), Output()), _dom_classes…"
            ]
          },
          "metadata": {
            "tags": []
          }
        }
      ]
    },
    {
      "cell_type": "markdown",
      "metadata": {
        "id": "G9JrjWGw3t48",
        "colab_type": "text"
      },
      "source": [
        "### Computing with numbers"
      ]
    },
    {
      "cell_type": "code",
      "metadata": {
        "id": "YwzWTseS3t48",
        "colab_type": "code",
        "colab": {}
      },
      "source": [
        "data['trip_time_in_mins'] = data.trip_time_in_secs / 60.0"
      ],
      "execution_count": null,
      "outputs": []
    },
    {
      "cell_type": "code",
      "metadata": {
        "id": "0qrte1cR3t5M",
        "colab_type": "code",
        "colab": {
          "base_uri": "https://localhost:8080/",
          "height": 143
        },
        "outputId": "883719f6-b044-439d-c684-596d2510c011"
      },
      "source": [
        "data[['trip_time_in_secs', 'trip_time_in_mins']].head(3)"
      ],
      "execution_count": null,
      "outputs": [
        {
          "output_type": "execute_result",
          "data": {
            "text/html": [
              "<div>\n",
              "<style scoped>\n",
              "    .dataframe tbody tr th:only-of-type {\n",
              "        vertical-align: middle;\n",
              "    }\n",
              "\n",
              "    .dataframe tbody tr th {\n",
              "        vertical-align: top;\n",
              "    }\n",
              "\n",
              "    .dataframe thead th {\n",
              "        text-align: right;\n",
              "    }\n",
              "</style>\n",
              "<table border=\"1\" class=\"dataframe\">\n",
              "  <thead>\n",
              "    <tr style=\"text-align: right;\">\n",
              "      <th></th>\n",
              "      <th>trip_time_in_secs</th>\n",
              "      <th>trip_time_in_mins</th>\n",
              "    </tr>\n",
              "  </thead>\n",
              "  <tbody>\n",
              "    <tr>\n",
              "      <th>0</th>\n",
              "      <td>300</td>\n",
              "      <td>5.000000</td>\n",
              "    </tr>\n",
              "    <tr>\n",
              "      <th>1</th>\n",
              "      <td>960</td>\n",
              "      <td>16.000000</td>\n",
              "    </tr>\n",
              "    <tr>\n",
              "      <th>2</th>\n",
              "      <td>386</td>\n",
              "      <td>6.433333</td>\n",
              "    </tr>\n",
              "  </tbody>\n",
              "</table>\n",
              "</div>"
            ],
            "text/plain": [
              "   trip_time_in_secs  trip_time_in_mins\n",
              "0                300           5.000000\n",
              "1                960          16.000000\n",
              "2                386           6.433333"
            ]
          },
          "metadata": {
            "tags": []
          },
          "execution_count": 145
        }
      ]
    },
    {
      "cell_type": "code",
      "metadata": {
        "id": "3OPZNRPx3t5O",
        "colab_type": "code",
        "colab": {
          "base_uri": "https://localhost:8080/",
          "height": 127
        },
        "outputId": "a53d3146-c5ed-487f-da42-38a4bac488d0"
      },
      "source": [
        "a = data.trip_distance[:5]\n",
        "a"
      ],
      "execution_count": null,
      "outputs": [
        {
          "output_type": "execute_result",
          "data": {
            "text/plain": [
              "0    0.61\n",
              "1    3.28\n",
              "2    1.50\n",
              "3    0.00\n",
              "4    1.31\n",
              "Name: trip_distance, dtype: float64"
            ]
          },
          "metadata": {
            "tags": []
          },
          "execution_count": 146
        }
      ]
    },
    {
      "cell_type": "code",
      "metadata": {
        "id": "PLNWlCxS3t5R",
        "colab_type": "code",
        "colab": {
          "base_uri": "https://localhost:8080/",
          "height": 109
        },
        "outputId": "5e82ef49-7f49-4a81-a68e-1f2c5156e498"
      },
      "source": [
        "b = data.trip_distance[2:6]\n",
        "b"
      ],
      "execution_count": null,
      "outputs": [
        {
          "output_type": "execute_result",
          "data": {
            "text/plain": [
              "2    1.50\n",
              "3    0.00\n",
              "4    1.31\n",
              "5    5.81\n",
              "Name: trip_distance, dtype: float64"
            ]
          },
          "metadata": {
            "tags": []
          },
          "execution_count": 147
        }
      ]
    },
    {
      "cell_type": "code",
      "metadata": {
        "id": "4b59gcNM3t5U",
        "colab_type": "code",
        "colab": {
          "base_uri": "https://localhost:8080/",
          "height": 146
        },
        "outputId": "f21cd871-448e-4302-f835-e4ea17d503e9"
      },
      "source": [
        "a + b"
      ],
      "execution_count": null,
      "outputs": [
        {
          "output_type": "execute_result",
          "data": {
            "text/plain": [
              "0     NaN\n",
              "1     NaN\n",
              "2    3.00\n",
              "3    0.00\n",
              "4    2.62\n",
              "5     NaN\n",
              "Name: trip_distance, dtype: float64"
            ]
          },
          "metadata": {
            "tags": []
          },
          "execution_count": 148
        }
      ]
    },
    {
      "cell_type": "markdown",
      "metadata": {
        "id": "AaGRROF-3t5X",
        "colab_type": "text"
      },
      "source": [
        "### Working with text"
      ]
    },
    {
      "cell_type": "code",
      "metadata": {
        "id": "ykQ9CCaO3t5X",
        "colab_type": "code",
        "colab": {
          "base_uri": "https://localhost:8080/",
          "height": 90
        },
        "outputId": "f5e17563-676b-4c47-994c-964d8d7c80cd"
      },
      "source": [
        "data.medallion.head(3)"
      ],
      "execution_count": null,
      "outputs": [
        {
          "output_type": "execute_result",
          "data": {
            "text/plain": [
              "0    76942C3205E17D7E7FE5A9F709D16434\n",
              "1    517C6B330DBB3F055D007B07512628B3\n",
              "2    ED15611F168E41B33619C83D900FE266\n",
              "Name: medallion, dtype: object"
            ]
          },
          "metadata": {
            "tags": []
          },
          "execution_count": 149
        }
      ]
    },
    {
      "cell_type": "code",
      "metadata": {
        "id": "zLkEfl_Q3t5Z",
        "colab_type": "code",
        "colab": {
          "base_uri": "https://localhost:8080/",
          "height": 90
        },
        "outputId": "6a167129-08b9-4d2c-f53b-4179eb9e8cbd"
      },
      "source": [
        "data.medallion.str.slice(0, 4).head(3)"
      ],
      "execution_count": null,
      "outputs": [
        {
          "output_type": "execute_result",
          "data": {
            "text/plain": [
              "0    7694\n",
              "1    517C\n",
              "2    ED15\n",
              "Name: medallion, dtype: object"
            ]
          },
          "metadata": {
            "tags": []
          },
          "execution_count": 150
        }
      ]
    },
    {
      "cell_type": "markdown",
      "metadata": {
        "id": "Cgw9wqBx3t5d",
        "colab_type": "text"
      },
      "source": [
        "### Working with dates and times"
      ]
    },
    {
      "cell_type": "code",
      "metadata": {
        "id": "ftREd0_x3t5e",
        "colab_type": "code",
        "colab": {
          "base_uri": "https://localhost:8080/",
          "height": 127
        },
        "outputId": "304c1ad9-591f-44e3-f6ce-0be375ae723a"
      },
      "source": [
        "data.pickup_datetime.dt.dayofweek[::200000]"
      ],
      "execution_count": null,
      "outputs": [
        {
          "output_type": "execute_result",
          "data": {
            "text/plain": [
              "0         1\n",
              "200000    6\n",
              "400000    5\n",
              "600000    0\n",
              "800000    1\n",
              "Name: pickup_datetime, dtype: int64"
            ]
          },
          "metadata": {
            "tags": []
          },
          "execution_count": 151
        }
      ]
    },
    {
      "cell_type": "code",
      "metadata": {
        "id": "fNBnCDl63t5g",
        "colab_type": "code",
        "colab": {
          "base_uri": "https://localhost:8080/",
          "height": 234
        },
        "outputId": "2dcd74d2-2ef6-42f0-d91d-e87507133114"
      },
      "source": [
        "day_p = data.pickup_datetime.dt.day\n",
        "day_d = data.dropoff_datetime.dt.day\n",
        "selection = (day_p != day_d)\n",
        "print(len(data.loc[selection]))\n",
        "data.loc[selection].head(3)"
      ],
      "execution_count": null,
      "outputs": [
        {
          "output_type": "stream",
          "text": [
            "7716\n"
          ],
          "name": "stdout"
        },
        {
          "output_type": "execute_result",
          "data": {
            "text/html": [
              "<div>\n",
              "<style scoped>\n",
              "    .dataframe tbody tr th:only-of-type {\n",
              "        vertical-align: middle;\n",
              "    }\n",
              "\n",
              "    .dataframe tbody tr th {\n",
              "        vertical-align: top;\n",
              "    }\n",
              "\n",
              "    .dataframe thead th {\n",
              "        text-align: right;\n",
              "    }\n",
              "</style>\n",
              "<table border=\"1\" class=\"dataframe\">\n",
              "  <thead>\n",
              "    <tr style=\"text-align: right;\">\n",
              "      <th></th>\n",
              "      <th>medallion</th>\n",
              "      <th>hack_license</th>\n",
              "      <th>vendor_id</th>\n",
              "      <th>rate_code</th>\n",
              "      <th>store_and_fwd_flag</th>\n",
              "      <th>pickup_datetime</th>\n",
              "      <th>dropoff_datetime</th>\n",
              "      <th>passenger_count</th>\n",
              "      <th>trip_time_in_secs</th>\n",
              "      <th>trip_distance</th>\n",
              "      <th>pickup_longitude</th>\n",
              "      <th>pickup_latitude</th>\n",
              "      <th>dropoff_longitude</th>\n",
              "      <th>dropoff_latitude</th>\n",
              "      <th>trip_time_in_mins</th>\n",
              "    </tr>\n",
              "  </thead>\n",
              "  <tbody>\n",
              "    <tr>\n",
              "      <th>2005</th>\n",
              "      <td>6385CA8C99985BFBAFB477A9BDFA28C9</td>\n",
              "      <td>08A78365909D2F09BF72B869C0B21FED</td>\n",
              "      <td>VTS</td>\n",
              "      <td>1</td>\n",
              "      <td>NaN</td>\n",
              "      <td>2013-01-01 23:45:00</td>\n",
              "      <td>2013-01-02 00:03:00</td>\n",
              "      <td>1</td>\n",
              "      <td>1080</td>\n",
              "      <td>12.61</td>\n",
              "      <td>-73.873062</td>\n",
              "      <td>40.774128</td>\n",
              "      <td>-73.983597</td>\n",
              "      <td>40.721539</td>\n",
              "      <td>18.000000</td>\n",
              "    </tr>\n",
              "    <tr>\n",
              "      <th>2008</th>\n",
              "      <td>D932DC772B89F69D30F03FB095424F97</td>\n",
              "      <td>F5AE2E36090433DFE4142AFC19AFD495</td>\n",
              "      <td>CMT</td>\n",
              "      <td>1</td>\n",
              "      <td>N</td>\n",
              "      <td>2013-01-01 23:46:22</td>\n",
              "      <td>2013-01-02 00:28:01</td>\n",
              "      <td>1</td>\n",
              "      <td>2498</td>\n",
              "      <td>16.10</td>\n",
              "      <td>-73.781921</td>\n",
              "      <td>40.644657</td>\n",
              "      <td>-73.998512</td>\n",
              "      <td>40.660194</td>\n",
              "      <td>41.633333</td>\n",
              "    </tr>\n",
              "    <tr>\n",
              "      <th>2010</th>\n",
              "      <td>33BB4B9DBFD87B7522909FEEB84896F4</td>\n",
              "      <td>412253C6258AF9DCE2D27DE714A84049</td>\n",
              "      <td>CMT</td>\n",
              "      <td>1</td>\n",
              "      <td>N</td>\n",
              "      <td>2013-01-01 23:46:53</td>\n",
              "      <td>2013-01-02 00:03:33</td>\n",
              "      <td>1</td>\n",
              "      <td>1000</td>\n",
              "      <td>5.40</td>\n",
              "      <td>-74.001274</td>\n",
              "      <td>40.725952</td>\n",
              "      <td>-73.980347</td>\n",
              "      <td>40.660503</td>\n",
              "      <td>16.666667</td>\n",
              "    </tr>\n",
              "  </tbody>\n",
              "</table>\n",
              "</div>"
            ],
            "text/plain": [
              "                             medallion  ... trip_time_in_mins\n",
              "2005  6385CA8C99985BFBAFB477A9BDFA28C9  ...         18.000000\n",
              "2008  D932DC772B89F69D30F03FB095424F97  ...         41.633333\n",
              "2010  33BB4B9DBFD87B7522909FEEB84896F4  ...         16.666667\n",
              "\n",
              "[3 rows x 15 columns]"
            ]
          },
          "metadata": {
            "tags": []
          },
          "execution_count": 152
        }
      ]
    }
  ]
}